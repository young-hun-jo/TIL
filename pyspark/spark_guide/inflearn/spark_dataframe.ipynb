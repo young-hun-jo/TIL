{
 "cells": [
  {
   "cell_type": "markdown",
   "metadata": {
    "toc": true
   },
   "source": [
    "<h1>Table of Contents<span class=\"tocSkip\"></span></h1>\n",
    "<div class=\"toc\"><ul class=\"toc-item\"></ul></div>"
   ]
  },
  {
   "cell_type": "code",
   "execution_count": 1,
   "metadata": {},
   "outputs": [
    {
     "name": "stdout",
     "output_type": "stream",
     "text": [
      "+-----------+--------+------+--------------------+------+----+-----+-----+----------------+-------+-----+--------+\n",
      "|PassengerId|Survived|Pclass|                Name|   Sex| Age|SibSp|Parch|          Ticket|   Fare|Cabin|Embarked|\n",
      "+-----------+--------+------+--------------------+------+----+-----+-----+----------------+-------+-----+--------+\n",
      "|          1|       0|     3|Braund, Mr. Owen ...|  male|22.0|    1|    0|       A/5 21171|   7.25| null|       S|\n",
      "|          2|       1|     1|Cumings, Mrs. Joh...|female|38.0|    1|    0|        PC 17599|71.2833|  C85|       C|\n",
      "|          3|       1|     3|Heikkinen, Miss. ...|female|26.0|    0|    0|STON/O2. 3101282|  7.925| null|       S|\n",
      "|          4|       1|     1|Futrelle, Mrs. Ja...|female|35.0|    1|    0|          113803|   53.1| C123|       S|\n",
      "|          5|       0|     3|Allen, Mr. Willia...|  male|35.0|    0|    0|          373450|   8.05| null|       S|\n",
      "+-----------+--------+------+--------------------+------+----+-----+-----+----------------+-------+-----+--------+\n",
      "\n"
     ]
    }
   ],
   "source": [
    "path = '/Users/younghun/Desktop/gitrepo/data/titanic/train.csv'\n",
    "\n",
    "spark_df = spark.read.csv(path, header=True, inferSchema=True)\n",
    "spark_df.limit(num=5).show()"
   ]
  },
  {
   "cell_type": "code",
   "execution_count": 2,
   "metadata": {},
   "outputs": [
    {
     "name": "stdout",
     "output_type": "stream",
     "text": [
      "Row(PassengerId=1, Survived=0, Pclass=3, Name='Braund, Mr. Owen Harris', Sex='male', Age=22.0, SibSp=1, Parch=0, Ticket='A/5 21171', Fare=7.25, Cabin=None, Embarked='S')\n",
      "\n",
      "row의 PassengerId: 1 1\n"
     ]
    }
   ],
   "source": [
    "path = '/Users/younghun/Desktop/gitrepo/data/titanic/train.csv'\n",
    "\n",
    "spark_df = spark.read.csv(path, header=True, inferSchema=True)\n",
    "row = spark_df.head()\n",
    "\n",
    "print(row)\n",
    "print()\n",
    "print('row의 PassengerId:', row['PassengerId'], row.PassengerId)"
   ]
  },
  {
   "cell_type": "code",
   "execution_count": 3,
   "metadata": {},
   "outputs": [
    {
     "name": "stdout",
     "output_type": "stream",
     "text": [
      "row: Row(PassengerId=1, Survived=0, Pclass=3, Name='Braund, Mr. Owen Harris', Sex='male', Age=22.0, SibSp=1, Parch=0, Ticket='A/5 21171', Fare=7.25, Cabin=None, Embarked='S')\n",
      "\n",
      "row2: [Row(PassengerId=1, Survived=0, Pclass=3, Name='Braund, Mr. Owen Harris', Sex='male', Age=22.0, SibSp=1, Parch=0, Ticket='A/5 21171', Fare=7.25, Cabin=None, Embarked='S')]\n",
      "\n",
      "row3: [Row(PassengerId=1, Survived=0, Pclass=3, Name='Braund, Mr. Owen Harris', Sex='male', Age=22.0, SibSp=1, Parch=0, Ticket='A/5 21171', Fare=7.25, Cabin=None, Embarked='S'), Row(PassengerId=2, Survived=1, Pclass=1, Name='Cumings, Mrs. John Bradley (Florence Briggs Thayer)', Sex='female', Age=38.0, SibSp=1, Parch=0, Ticket='PC 17599', Fare=71.2833, Cabin='C85', Embarked='C'), Row(PassengerId=3, Survived=1, Pclass=3, Name='Heikkinen, Miss. Laina', Sex='female', Age=26.0, SibSp=0, Parch=0, Ticket='STON/O2. 3101282', Fare=7.925, Cabin=None, Embarked='S')]\n"
     ]
    }
   ],
   "source": [
    "path = '/Users/younghun/Desktop/gitrepo/data/titanic/train.csv'\n",
    "\n",
    "spark_df = spark.read.csv(path, header=True, inferSchema=True)\n",
    "\n",
    "# 1. head()에 인자로 아무것도 안 줄 때\n",
    "row = spark_df.head()\n",
    "print('row:', row)\n",
    "print()\n",
    "# 2. head()에 인자로 1을 줄 때\n",
    "row2 = spark_df.head(1)\n",
    "print('row2:', row2)\n",
    "print()\n",
    "# 3. head()에 인자로 3을 줄 때\n",
    "row3 = spark_df.head(3)\n",
    "print('row3:', row3)"
   ]
  },
  {
   "cell_type": "code",
   "execution_count": 4,
   "metadata": {},
   "outputs": [
    {
     "name": "stdout",
     "output_type": "stream",
     "text": [
      "root\n",
      " |-- PassengerId: integer (nullable = true)\n",
      " |-- Survived: integer (nullable = true)\n",
      " |-- Pclass: integer (nullable = true)\n",
      " |-- Name: string (nullable = true)\n",
      " |-- Sex: string (nullable = true)\n",
      " |-- Age: double (nullable = true)\n",
      " |-- SibSp: integer (nullable = true)\n",
      " |-- Parch: integer (nullable = true)\n",
      " |-- Ticket: string (nullable = true)\n",
      " |-- Fare: double (nullable = true)\n",
      " |-- Cabin: string (nullable = true)\n",
      " |-- Embarked: string (nullable = true)\n",
      "\n"
     ]
    }
   ],
   "source": [
    "spark_df.printSchema()"
   ]
  },
  {
   "cell_type": "code",
   "execution_count": 5,
   "metadata": {},
   "outputs": [
    {
     "data": {
      "text/plain": [
       "[('PassengerId', 'int'),\n",
       " ('Survived', 'int'),\n",
       " ('Pclass', 'int'),\n",
       " ('Name', 'string'),\n",
       " ('Sex', 'string'),\n",
       " ('Age', 'double'),\n",
       " ('SibSp', 'int'),\n",
       " ('Parch', 'int'),\n",
       " ('Ticket', 'string'),\n",
       " ('Fare', 'double'),\n",
       " ('Cabin', 'string'),\n",
       " ('Embarked', 'string')]"
      ]
     },
     "execution_count": 5,
     "metadata": {},
     "output_type": "execute_result"
    }
   ],
   "source": [
    "spark_df.dtypes"
   ]
  },
  {
   "cell_type": "code",
   "execution_count": 9,
   "metadata": {},
   "outputs": [
    {
     "data": {
      "text/plain": [
       "DataFrame[summary: string, PassengerId: string, Survived: string, Pclass: string, Name: string, Sex: string, Age: string, SibSp: string, Parch: string, Ticket: string, Fare: string, Cabin: string, Embarked: string]"
      ]
     },
     "execution_count": 9,
     "metadata": {},
     "output_type": "execute_result"
    }
   ],
   "source": [
    "spark_df.describe()"
   ]
  },
  {
   "cell_type": "code",
   "execution_count": 12,
   "metadata": {},
   "outputs": [
    {
     "name": "stdout",
     "output_type": "stream",
     "text": [
      "+-------+-----------------+-------------------+------------------+------------------+------------------+-------------------+-----------------+\n",
      "|summary|      PassengerId|           Survived|            Pclass|               Age|             SibSp|              Parch|             Fare|\n",
      "+-------+-----------------+-------------------+------------------+------------------+------------------+-------------------+-----------------+\n",
      "|  count|              891|                891|               891|               714|               891|                891|              891|\n",
      "|   mean|            446.0| 0.3838383838383838| 2.308641975308642| 29.69911764705882|0.5230078563411896|0.38159371492704824| 32.2042079685746|\n",
      "| stddev|257.3538420152301|0.48659245426485753|0.8360712409770491|14.526497332334035|1.1027434322934315| 0.8060572211299488|49.69342859718089|\n",
      "|    min|                1|                  0|                 1|              0.42|                 0|                  0|              0.0|\n",
      "|    max|              891|                  1|                 3|              80.0|                 8|                  6|         512.3292|\n",
      "+-------+-----------------+-------------------+------------------+------------------+------------------+-------------------+-----------------+\n",
      "\n"
     ]
    }
   ],
   "source": [
    "num_cols = [name for name, dtype in spark_df.dtypes if dtype != 'string']\n",
    "\n",
    "spark_df.select(*num_cols).describe().show()"
   ]
  },
  {
   "cell_type": "code",
   "execution_count": 16,
   "metadata": {},
   "outputs": [
    {
     "name": "stdout",
     "output_type": "stream",
     "text": [
      "행 개수: 891\n",
      "열 개수: 12\n"
     ]
    }
   ],
   "source": [
    "# 행 개수 구하기\n",
    "print('행 개수:', spark_df.count())\n",
    "\n",
    "# 열 개수 구하기\n",
    "print('열 개수:', len(spark_df.columns))"
   ]
  },
  {
   "cell_type": "code",
   "execution_count": 29,
   "metadata": {
    "scrolled": true
   },
   "outputs": [
    {
     "name": "stdout",
     "output_type": "stream",
     "text": [
      "+-----------+--------+------+--------------------+------+----+-----+-----+----------------+-------+-----+--------+\n",
      "|PassengerId|Survived|Pclass|                Name|   Sex| Age|SibSp|Parch|          Ticket|   Fare|Cabin|Embarked|\n",
      "+-----------+--------+------+--------------------+------+----+-----+-----+----------------+-------+-----+--------+\n",
      "|          1|       0|     3|Braund, Mr. Owen ...|  male|22.0|    1|    0|       A/5 21171|   7.25| null|       S|\n",
      "|          2|       1|     1|Cumings, Mrs. Joh...|female|38.0|    1|    0|        PC 17599|71.2833|  C85|       C|\n",
      "|          3|       1|     3|Heikkinen, Miss. ...|female|26.0|    0|    0|STON/O2. 3101282|  7.925| null|       S|\n",
      "+-----------+--------+------+--------------------+------+----+-----+-----+----------------+-------+-----+--------+\n",
      "\n",
      "+----+\n",
      "| Age|\n",
      "+----+\n",
      "|22.0|\n",
      "|38.0|\n",
      "|26.0|\n",
      "+----+\n",
      "\n",
      "+----+\n",
      "| Age|\n",
      "+----+\n",
      "|22.0|\n",
      "|38.0|\n",
      "|26.0|\n",
      "+----+\n",
      "\n",
      "+----+\n",
      "| Age|\n",
      "+----+\n",
      "|22.0|\n",
      "|38.0|\n",
      "|26.0|\n",
      "+----+\n",
      "\n",
      "+----+\n",
      "| Age|\n",
      "+----+\n",
      "|22.0|\n",
      "|38.0|\n",
      "|26.0|\n",
      "+----+\n",
      "\n",
      "+----+\n",
      "| Age|\n",
      "+----+\n",
      "|22.0|\n",
      "|38.0|\n",
      "|26.0|\n",
      "+----+\n",
      "\n",
      "+--------------------+----+\n",
      "|                Name| Age|\n",
      "+--------------------+----+\n",
      "|Braund, Mr. Owen ...|22.0|\n",
      "|Cumings, Mrs. Joh...|38.0|\n",
      "|Heikkinen, Miss. ...|26.0|\n",
      "+--------------------+----+\n",
      "\n",
      "+--------------------+----+\n",
      "|                Name| Age|\n",
      "+--------------------+----+\n",
      "|Braund, Mr. Owen ...|22.0|\n",
      "|Cumings, Mrs. Joh...|38.0|\n",
      "|Heikkinen, Miss. ...|26.0|\n",
      "+--------------------+----+\n",
      "\n"
     ]
    }
   ],
   "source": [
    "from pyspark.sql.functions import col\n",
    "\n",
    "# 모든 칼럼 추출하기\n",
    "spark_df.select('*').limit(3).show()\n",
    "\n",
    "# Age라는 칼럼 하나만 추출하기\n",
    "spark_df.select('Age').limit(3).show()\n",
    "spark_df.select(['Age']).limit(3).show()\n",
    "spark_df.select(spark_df['Age']).limit(3).show()\n",
    "spark_df.select(spark_df.Age).limit(3).show()\n",
    "spark_df.select(col('Age')).limit(3).show()\n",
    "\n",
    "# 여러개의 칼럼을 동시에 추출하기\n",
    "spark_df.select('Name', 'Age').limit(3).show()\n",
    "spark_df.select(['Name', 'Age']).limit(3).show()"
   ]
  },
  {
   "cell_type": "code",
   "execution_count": 38,
   "metadata": {},
   "outputs": [
    {
     "name": "stdout",
     "output_type": "stream",
     "text": [
      "+-------+\n",
      "|Max_Age|\n",
      "+-------+\n",
      "|   80.0|\n",
      "+-------+\n",
      "\n",
      "+----------+\n",
      "|Min_Pclass|\n",
      "+----------+\n",
      "|         1|\n",
      "+----------+\n",
      "\n",
      "+-----------------+\n",
      "|          Avg_Age|\n",
      "+-----------------+\n",
      "|29.69911764705882|\n",
      "+-----------------+\n",
      "\n",
      "+--------------------+\n",
      "|          Upper_Name|\n",
      "+--------------------+\n",
      "|BRAUND, MR. OWEN ...|\n",
      "|CUMINGS, MRS. JOH...|\n",
      "|HEIKKINEN, MISS. ...|\n",
      "+--------------------+\n",
      "\n",
      "+-----------+--------+------+--------------------+------+----+-----+-----+----------------+-------+-----+--------+--------------------+\n",
      "|PassengerId|Survived|Pclass|                Name|   Sex| Age|SibSp|Parch|          Ticket|   Fare|Cabin|Embarked|          Lower_Name|\n",
      "+-----------+--------+------+--------------------+------+----+-----+-----+----------------+-------+-----+--------+--------------------+\n",
      "|          1|       0|     3|Braund, Mr. Owen ...|  male|22.0|    1|    0|       A/5 21171|   7.25| null|       S|braund, mr. owen ...|\n",
      "|          2|       1|     1|Cumings, Mrs. Joh...|female|38.0|    1|    0|        PC 17599|71.2833|  C85|       C|cumings, mrs. joh...|\n",
      "|          3|       1|     3|Heikkinen, Miss. ...|female|26.0|    0|    0|STON/O2. 3101282|  7.925| null|       S|heikkinen, miss. ...|\n",
      "+-----------+--------+------+--------------------+------+----+-----+-----+----------------+-------+-----+--------+--------------------+\n",
      "\n"
     ]
    }
   ],
   "source": [
    "from pyspark.sql.functions import max, min, avg\n",
    "from pyspark.sql.functions import upper, lower\n",
    "\n",
    "\n",
    "spark_df.select(max('Age').alias('Max_Age')).show()\n",
    "spark_df.select(min('Pclass').alias('Min_Pclass')).show()\n",
    "spark_df.select(avg('Age').alias('Avg_Age')).show()\n",
    "spark_df.select(upper('Name').alias('Upper_Name')).limit(3).show()\n",
    "# 모든 칼럼과 변환을 준 칼럼 동시에 추출\n",
    "spark_df.select('*', lower(col('Name')).alias('Lower_Name')).limit(3).show()"
   ]
  },
  {
   "cell_type": "code",
   "execution_count": 48,
   "metadata": {},
   "outputs": [
    {
     "name": "stdout",
     "output_type": "stream",
     "text": [
      "+-----------+--------+------+--------------------+------+----+-----+-----+----------------+-------+-----+--------+\n",
      "|PassengerId|Survived|Pclass|                Name|   Sex| Age|SibSp|Parch|          Ticket|   Fare|Cabin|Embarked|\n",
      "+-----------+--------+------+--------------------+------+----+-----+-----+----------------+-------+-----+--------+\n",
      "|          2|       1|     1|Cumings, Mrs. Joh...|female|38.0|    1|    0|        PC 17599|71.2833|  C85|       C|\n",
      "|          3|       1|     3|Heikkinen, Miss. ...|female|26.0|    0|    0|STON/O2. 3101282|  7.925| null|       S|\n",
      "|          4|       1|     1|Futrelle, Mrs. Ja...|female|35.0|    1|    0|          113803|   53.1| C123|       S|\n",
      "|          5|       0|     3|Allen, Mr. Willia...|  male|35.0|    0|    0|          373450|   8.05| null|       S|\n",
      "|          7|       0|     1|McCarthy, Mr. Tim...|  male|54.0|    0|    0|           17463|51.8625|  E46|       S|\n",
      "+-----------+--------+------+--------------------+------+----+-----+-----+----------------+-------+-----+--------+\n",
      "\n",
      "+-----------+--------+------+--------------------+------+----+-----+-----+----------------+-------+-----+--------+\n",
      "|PassengerId|Survived|Pclass|                Name|   Sex| Age|SibSp|Parch|          Ticket|   Fare|Cabin|Embarked|\n",
      "+-----------+--------+------+--------------------+------+----+-----+-----+----------------+-------+-----+--------+\n",
      "|          2|       1|     1|Cumings, Mrs. Joh...|female|38.0|    1|    0|        PC 17599|71.2833|  C85|       C|\n",
      "|          3|       1|     3|Heikkinen, Miss. ...|female|26.0|    0|    0|STON/O2. 3101282|  7.925| null|       S|\n",
      "|          4|       1|     1|Futrelle, Mrs. Ja...|female|35.0|    1|    0|          113803|   53.1| C123|       S|\n",
      "|          5|       0|     3|Allen, Mr. Willia...|  male|35.0|    0|    0|          373450|   8.05| null|       S|\n",
      "|          7|       0|     1|McCarthy, Mr. Tim...|  male|54.0|    0|    0|           17463|51.8625|  E46|       S|\n",
      "+-----------+--------+------+--------------------+------+----+-----+-----+----------------+-------+-----+--------+\n",
      "\n",
      "+-----------+--------+------+--------------------+------+----+-----+-----+----------------+-------+-----+--------+\n",
      "|PassengerId|Survived|Pclass|                Name|   Sex| Age|SibSp|Parch|          Ticket|   Fare|Cabin|Embarked|\n",
      "+-----------+--------+------+--------------------+------+----+-----+-----+----------------+-------+-----+--------+\n",
      "|          2|       1|     1|Cumings, Mrs. Joh...|female|38.0|    1|    0|        PC 17599|71.2833|  C85|       C|\n",
      "|          3|       1|     3|Heikkinen, Miss. ...|female|26.0|    0|    0|STON/O2. 3101282|  7.925| null|       S|\n",
      "|          4|       1|     1|Futrelle, Mrs. Ja...|female|35.0|    1|    0|          113803|   53.1| C123|       S|\n",
      "|          5|       0|     3|Allen, Mr. Willia...|  male|35.0|    0|    0|          373450|   8.05| null|       S|\n",
      "|          7|       0|     1|McCarthy, Mr. Tim...|  male|54.0|    0|    0|           17463|51.8625|  E46|       S|\n",
      "+-----------+--------+------+--------------------+------+----+-----+-----+----------------+-------+-----+--------+\n",
      "\n"
     ]
    },
    {
     "ename": "TypeError",
     "evalue": "'>' not supported between instances of 'str' and 'int'",
     "output_type": "error",
     "traceback": [
      "\u001b[0;31m---------------------------------------------------------------------------\u001b[0m",
      "\u001b[0;31mTypeError\u001b[0m                                 Traceback (most recent call last)",
      "\u001b[0;32m<ipython-input-48-8c99da2b11ce>\u001b[0m in \u001b[0;36m<module>\u001b[0;34m\u001b[0m\n\u001b[1;32m      5\u001b[0m \u001b[0;34m\u001b[0m\u001b[0m\n\u001b[1;32m      6\u001b[0m \u001b[0;31m# error 발생!\u001b[0m\u001b[0;34m\u001b[0m\u001b[0;34m\u001b[0m\u001b[0;34m\u001b[0m\u001b[0m\n\u001b[0;32m----> 7\u001b[0;31m \u001b[0mspark_df\u001b[0m\u001b[0;34m.\u001b[0m\u001b[0mfilter\u001b[0m\u001b[0;34m(\u001b[0m\u001b[0;34m'Age'\u001b[0m \u001b[0;34m>\u001b[0m \u001b[0;36m25\u001b[0m\u001b[0;34m)\u001b[0m\u001b[0;34m.\u001b[0m\u001b[0mlimit\u001b[0m\u001b[0;34m(\u001b[0m\u001b[0;36m5\u001b[0m\u001b[0;34m)\u001b[0m\u001b[0;34m.\u001b[0m\u001b[0mshow\u001b[0m\u001b[0;34m(\u001b[0m\u001b[0;34m)\u001b[0m\u001b[0;34m\u001b[0m\u001b[0;34m\u001b[0m\u001b[0m\n\u001b[0m",
      "\u001b[0;31mTypeError\u001b[0m: '>' not supported between instances of 'str' and 'int'"
     ]
    }
   ],
   "source": [
    "path = '/Users/younghun/Desktop/gitrepo/data/titanic/train.csv'\n",
    "\n",
    "spark_df = spark.read.csv(path, header=True, inferSchema=True)\n",
    "\n",
    "# filter 메소드안에는 Column type을 넣어주어야 함!\n",
    "spark_df.filter(col('Age') > 25).limit(5).show()\n",
    "spark_df.filter(spark_df['Age'] > 25).limit(5).show()\n",
    "spark_df.filter(spark_df.Age > 25).limit(5).show()\n",
    "\n",
    "# error 발생!\n",
    "spark_df.filter('Age' > 25).limit(5).show()"
   ]
  },
  {
   "cell_type": "code",
   "execution_count": 49,
   "metadata": {},
   "outputs": [
    {
     "name": "stdout",
     "output_type": "stream",
     "text": [
      "<class 'pyspark.sql.column.Column'> <class 'pyspark.sql.column.Column'> <class 'pyspark.sql.column.Column'>\n"
     ]
    }
   ],
   "source": [
    "print(type(spark_df['Age']), type(spark_df.Age), type(col('Age')))"
   ]
  },
  {
   "cell_type": "code",
   "execution_count": 52,
   "metadata": {},
   "outputs": [
    {
     "name": "stdout",
     "output_type": "stream",
     "text": [
      "+-----------+--------+------+--------------------+------+----+-----+-----+----------------+-------+-----+--------+\n",
      "|PassengerId|Survived|Pclass|                Name|   Sex| Age|SibSp|Parch|          Ticket|   Fare|Cabin|Embarked|\n",
      "+-----------+--------+------+--------------------+------+----+-----+-----+----------------+-------+-----+--------+\n",
      "|          2|       1|     1|Cumings, Mrs. Joh...|female|38.0|    1|    0|        PC 17599|71.2833|  C85|       C|\n",
      "|          3|       1|     3|Heikkinen, Miss. ...|female|26.0|    0|    0|STON/O2. 3101282|  7.925| null|       S|\n",
      "|          4|       1|     1|Futrelle, Mrs. Ja...|female|35.0|    1|    0|          113803|   53.1| C123|       S|\n",
      "|          5|       0|     3|Allen, Mr. Willia...|  male|35.0|    0|    0|          373450|   8.05| null|       S|\n",
      "|          7|       0|     1|McCarthy, Mr. Tim...|  male|54.0|    0|    0|           17463|51.8625|  E46|       S|\n",
      "+-----------+--------+------+--------------------+------+----+-----+-----+----------------+-------+-----+--------+\n",
      "\n",
      "+-----------+--------+------+--------------------+------+----+-----+-----+----------------+-------+-----+--------+\n",
      "|PassengerId|Survived|Pclass|                Name|   Sex| Age|SibSp|Parch|          Ticket|   Fare|Cabin|Embarked|\n",
      "+-----------+--------+------+--------------------+------+----+-----+-----+----------------+-------+-----+--------+\n",
      "|          2|       1|     1|Cumings, Mrs. Joh...|female|38.0|    1|    0|        PC 17599|71.2833|  C85|       C|\n",
      "|          3|       1|     3|Heikkinen, Miss. ...|female|26.0|    0|    0|STON/O2. 3101282|  7.925| null|       S|\n",
      "|          4|       1|     1|Futrelle, Mrs. Ja...|female|35.0|    1|    0|          113803|   53.1| C123|       S|\n",
      "|          5|       0|     3|Allen, Mr. Willia...|  male|35.0|    0|    0|          373450|   8.05| null|       S|\n",
      "|          7|       0|     1|McCarthy, Mr. Tim...|  male|54.0|    0|    0|           17463|51.8625|  E46|       S|\n",
      "+-----------+--------+------+--------------------+------+----+-----+-----+----------------+-------+-----+--------+\n",
      "\n",
      "+-----------+--------+------+--------------------+------+----+-----+-----+----------------+-------+-----+--------+\n",
      "|PassengerId|Survived|Pclass|                Name|   Sex| Age|SibSp|Parch|          Ticket|   Fare|Cabin|Embarked|\n",
      "+-----------+--------+------+--------------------+------+----+-----+-----+----------------+-------+-----+--------+\n",
      "|          2|       1|     1|Cumings, Mrs. Joh...|female|38.0|    1|    0|        PC 17599|71.2833|  C85|       C|\n",
      "|          3|       1|     3|Heikkinen, Miss. ...|female|26.0|    0|    0|STON/O2. 3101282|  7.925| null|       S|\n",
      "|          4|       1|     1|Futrelle, Mrs. Ja...|female|35.0|    1|    0|          113803|   53.1| C123|       S|\n",
      "|          5|       0|     3|Allen, Mr. Willia...|  male|35.0|    0|    0|          373450|   8.05| null|       S|\n",
      "|          7|       0|     1|McCarthy, Mr. Tim...|  male|54.0|    0|    0|           17463|51.8625|  E46|       S|\n",
      "+-----------+--------+------+--------------------+------+----+-----+-----+----------------+-------+-----+--------+\n",
      "\n"
     ]
    }
   ],
   "source": [
    "spark_df.where(col('Age') > 25).limit(5).show()\n",
    "spark_df.where(spark_df['Age'] > 25).limit(5).show()\n",
    "spark_df.where(spark_df.Age > 25).limit(5).show()"
   ]
  },
  {
   "cell_type": "code",
   "execution_count": 54,
   "metadata": {},
   "outputs": [
    {
     "name": "stdout",
     "output_type": "stream",
     "text": [
      "+-----------+--------+------+--------------------+------+----+-----+-----+----------------+-------+-----+--------+\n",
      "|PassengerId|Survived|Pclass|                Name|   Sex| Age|SibSp|Parch|          Ticket|   Fare|Cabin|Embarked|\n",
      "+-----------+--------+------+--------------------+------+----+-----+-----+----------------+-------+-----+--------+\n",
      "|          2|       1|     1|Cumings, Mrs. Joh...|female|38.0|    1|    0|        PC 17599|71.2833|  C85|       C|\n",
      "|          3|       1|     3|Heikkinen, Miss. ...|female|26.0|    0|    0|STON/O2. 3101282|  7.925| null|       S|\n",
      "|          4|       1|     1|Futrelle, Mrs. Ja...|female|35.0|    1|    0|          113803|   53.1| C123|       S|\n",
      "|          5|       0|     3|Allen, Mr. Willia...|  male|35.0|    0|    0|          373450|   8.05| null|       S|\n",
      "|          7|       0|     1|McCarthy, Mr. Tim...|  male|54.0|    0|    0|           17463|51.8625|  E46|       S|\n",
      "+-----------+--------+------+--------------------+------+----+-----+-----+----------------+-------+-----+--------+\n",
      "\n",
      "+-----------+--------+------+--------------------+------+----+-----+-----+----------------+-------+-----+--------+\n",
      "|PassengerId|Survived|Pclass|                Name|   Sex| Age|SibSp|Parch|          Ticket|   Fare|Cabin|Embarked|\n",
      "+-----------+--------+------+--------------------+------+----+-----+-----+----------------+-------+-----+--------+\n",
      "|          2|       1|     1|Cumings, Mrs. Joh...|female|38.0|    1|    0|        PC 17599|71.2833|  C85|       C|\n",
      "|          3|       1|     3|Heikkinen, Miss. ...|female|26.0|    0|    0|STON/O2. 3101282|  7.925| null|       S|\n",
      "|          4|       1|     1|Futrelle, Mrs. Ja...|female|35.0|    1|    0|          113803|   53.1| C123|       S|\n",
      "|          5|       0|     3|Allen, Mr. Willia...|  male|35.0|    0|    0|          373450|   8.05| null|       S|\n",
      "|          7|       0|     1|McCarthy, Mr. Tim...|  male|54.0|    0|    0|           17463|51.8625|  E46|       S|\n",
      "+-----------+--------+------+--------------------+------+----+-----+-----+----------------+-------+-----+--------+\n",
      "\n"
     ]
    }
   ],
   "source": [
    "spark_df.filter(\"Age > 25\").limit(5).show()\n",
    "spark_df.where(\"Age > 25\").limit(5).show()"
   ]
  },
  {
   "cell_type": "code",
   "execution_count": 57,
   "metadata": {},
   "outputs": [
    {
     "name": "stdout",
     "output_type": "stream",
     "text": [
      "+-----------+--------+------+--------------------+------+----+-----+-----+--------+-------+-----+--------+\n",
      "|PassengerId|Survived|Pclass|                Name|   Sex| Age|SibSp|Parch|  Ticket|   Fare|Cabin|Embarked|\n",
      "+-----------+--------+------+--------------------+------+----+-----+-----+--------+-------+-----+--------+\n",
      "|          2|       1|     1|Cumings, Mrs. Joh...|female|38.0|    1|    0|PC 17599|71.2833|  C85|       C|\n",
      "|         31|       0|     1|Uruchurtu, Don. M...|  male|40.0|    0|    0|PC 17601|27.7208| null|       C|\n",
      "|         35|       0|     1|Meyer, Mr. Edgar ...|  male|28.0|    1|    0|PC 17604|82.1708| null|       C|\n",
      "|         53|       1|     1|Harper, Mrs. Henr...|female|49.0|    1|    0|PC 17572|76.7292|  D33|       C|\n",
      "|         55|       0|     1|Ostby, Mr. Engelh...|  male|65.0|    0|    1|  113509|61.9792|  B30|       C|\n",
      "+-----------+--------+------+--------------------+------+----+-----+-----+--------+-------+-----+--------+\n",
      "\n",
      "+-----------+--------+------+--------------------+------+----+-----+-----+----------------+-------+-----+--------+\n",
      "|PassengerId|Survived|Pclass|                Name|   Sex| Age|SibSp|Parch|          Ticket|   Fare|Cabin|Embarked|\n",
      "+-----------+--------+------+--------------------+------+----+-----+-----+----------------+-------+-----+--------+\n",
      "|          2|       1|     1|Cumings, Mrs. Joh...|female|38.0|    1|    0|        PC 17599|71.2833|  C85|       C|\n",
      "|          3|       1|     3|Heikkinen, Miss. ...|female|26.0|    0|    0|STON/O2. 3101282|  7.925| null|       S|\n",
      "|          4|       1|     1|Futrelle, Mrs. Ja...|female|35.0|    1|    0|          113803|   53.1| C123|       S|\n",
      "|          5|       0|     3|Allen, Mr. Willia...|  male|35.0|    0|    0|          373450|   8.05| null|       S|\n",
      "|          6|       0|     3|    Moran, Mr. James|  male|null|    0|    0|          330877| 8.4583| null|       Q|\n",
      "+-----------+--------+------+--------------------+------+----+-----+-----+----------------+-------+-----+--------+\n",
      "\n"
     ]
    }
   ],
   "source": [
    "from pyspark.sql.functions import col\n",
    "\n",
    "cond1 = col('Age') > 25\n",
    "cond2 = col('Embarked') != 'S'\n",
    "\n",
    "spark_df.filter(cond1 & cond2).limit(5).show()\n",
    "spark_df.where(cond1 | cond2).limit(5).show()"
   ]
  },
  {
   "cell_type": "code",
   "execution_count": 59,
   "metadata": {},
   "outputs": [
    {
     "name": "stdout",
     "output_type": "stream",
     "text": [
      "+-----------+--------+------+--------------------+----+----+-----+-----+---------+-------+-----+--------+\n",
      "|PassengerId|Survived|Pclass|                Name| Sex| Age|SibSp|Parch|   Ticket|   Fare|Cabin|Embarked|\n",
      "+-----------+--------+------+--------------------+----+----+-----+-----+---------+-------+-----+--------+\n",
      "|          1|       0|     3|Braund, Mr. Owen ...|male|22.0|    1|    0|A/5 21171|   7.25| null|       S|\n",
      "|          5|       0|     3|Allen, Mr. Willia...|male|35.0|    0|    0|   373450|   8.05| null|       S|\n",
      "|          6|       0|     3|    Moran, Mr. James|male|null|    0|    0|   330877| 8.4583| null|       Q|\n",
      "|          7|       0|     1|McCarthy, Mr. Tim...|male|54.0|    0|    0|    17463|51.8625|  E46|       S|\n",
      "|         13|       0|     3|Saundercock, Mr. ...|male|20.0|    0|    0|A/5. 2151|   8.05| null|       S|\n",
      "+-----------+--------+------+--------------------+----+----+-----+-----+---------+-------+-----+--------+\n",
      "\n",
      "+-----------+--------+------+--------------------+----+----+-----+-----+---------+-------+-----+--------+\n",
      "|PassengerId|Survived|Pclass|                Name| Sex| Age|SibSp|Parch|   Ticket|   Fare|Cabin|Embarked|\n",
      "+-----------+--------+------+--------------------+----+----+-----+-----+---------+-------+-----+--------+\n",
      "|          1|       0|     3|Braund, Mr. Owen ...|male|22.0|    1|    0|A/5 21171|   7.25| null|       S|\n",
      "|          5|       0|     3|Allen, Mr. Willia...|male|35.0|    0|    0|   373450|   8.05| null|       S|\n",
      "|          6|       0|     3|    Moran, Mr. James|male|null|    0|    0|   330877| 8.4583| null|       Q|\n",
      "|          7|       0|     1|McCarthy, Mr. Tim...|male|54.0|    0|    0|    17463|51.8625|  E46|       S|\n",
      "|         13|       0|     3|Saundercock, Mr. ...|male|20.0|    0|    0|A/5. 2151|   8.05| null|       S|\n",
      "+-----------+--------+------+--------------------+----+----+-----+-----+---------+-------+-----+--------+\n",
      "\n"
     ]
    }
   ],
   "source": [
    "spark_df.filter(col('Name').like('%Mr.%')).limit(5).show()\n",
    "spark_df.where(\"Name LIKE '%Mr.%'\").limit(5).show()"
   ]
  },
  {
   "cell_type": "code",
   "execution_count": 65,
   "metadata": {},
   "outputs": [
    {
     "name": "stdout",
     "output_type": "stream",
     "text": [
      "+-----------+--------+------+--------------------+------+----+-----+-----+----------+-----+-----+--------+\n",
      "|PassengerId|Survived|Pclass|                Name|   Sex| Age|SibSp|Parch|    Ticket| Fare|Cabin|Embarked|\n",
      "+-----------+--------+------+--------------------+------+----+-----+-----+----------+-----+-----+--------+\n",
      "|        891|       0|     3| Dooley, Mr. Patrick|  male|32.0|    0|    0|    370376| 7.75| null|       Q|\n",
      "|        890|       1|     1|Behr, Mr. Karl Ho...|  male|26.0|    0|    0|    111369| 30.0| C148|       C|\n",
      "|        889|       0|     3|\"Johnston, Miss. ...|female|null|    1|    2|W./C. 6607|23.45| null|       S|\n",
      "|        888|       1|     1|Graham, Miss. Mar...|female|19.0|    0|    0|    112053| 30.0|  B42|       S|\n",
      "|        887|       0|     2|Montvila, Rev. Ju...|  male|27.0|    0|    0|    211536| 13.0| null|       S|\n",
      "+-----------+--------+------+--------------------+------+----+-----+-----+----------+-----+-----+--------+\n",
      "\n",
      "+-----------+--------+------+--------------------+------+----+-----+-----+----------+-----+-----+--------+\n",
      "|PassengerId|Survived|Pclass|                Name|   Sex| Age|SibSp|Parch|    Ticket| Fare|Cabin|Embarked|\n",
      "+-----------+--------+------+--------------------+------+----+-----+-----+----------+-----+-----+--------+\n",
      "|        891|       0|     3| Dooley, Mr. Patrick|  male|32.0|    0|    0|    370376| 7.75| null|       Q|\n",
      "|        890|       1|     1|Behr, Mr. Karl Ho...|  male|26.0|    0|    0|    111369| 30.0| C148|       C|\n",
      "|        889|       0|     3|\"Johnston, Miss. ...|female|null|    1|    2|W./C. 6607|23.45| null|       S|\n",
      "|        888|       1|     1|Graham, Miss. Mar...|female|19.0|    0|    0|    112053| 30.0|  B42|       S|\n",
      "|        887|       0|     2|Montvila, Rev. Ju...|  male|27.0|    0|    0|    211536| 13.0| null|       S|\n",
      "+-----------+--------+------+--------------------+------+----+-----+-----+----------+-----+-----+--------+\n",
      "\n",
      "+-----------+--------+------+--------------------+------+----+-----+-----+----------+-----+-----+--------+\n",
      "|PassengerId|Survived|Pclass|                Name|   Sex| Age|SibSp|Parch|    Ticket| Fare|Cabin|Embarked|\n",
      "+-----------+--------+------+--------------------+------+----+-----+-----+----------+-----+-----+--------+\n",
      "|        891|       0|     3| Dooley, Mr. Patrick|  male|32.0|    0|    0|    370376| 7.75| null|       Q|\n",
      "|        890|       1|     1|Behr, Mr. Karl Ho...|  male|26.0|    0|    0|    111369| 30.0| C148|       C|\n",
      "|        889|       0|     3|\"Johnston, Miss. ...|female|null|    1|    2|W./C. 6607|23.45| null|       S|\n",
      "|        888|       1|     1|Graham, Miss. Mar...|female|19.0|    0|    0|    112053| 30.0|  B42|       S|\n",
      "|        887|       0|     2|Montvila, Rev. Ju...|  male|27.0|    0|    0|    211536| 13.0| null|       S|\n",
      "+-----------+--------+------+--------------------+------+----+-----+-----+----------+-----+-----+--------+\n",
      "\n",
      "+-----------+--------+------+--------------------+------+----+-----+-----+----------------+-------+-----+--------+\n",
      "|PassengerId|Survived|Pclass|                Name|   Sex| Age|SibSp|Parch|          Ticket|   Fare|Cabin|Embarked|\n",
      "+-----------+--------+------+--------------------+------+----+-----+-----+----------------+-------+-----+--------+\n",
      "|          1|       0|     3|Braund, Mr. Owen ...|  male|22.0|    1|    0|       A/5 21171|   7.25| null|       S|\n",
      "|          2|       1|     1|Cumings, Mrs. Joh...|female|38.0|    1|    0|        PC 17599|71.2833|  C85|       C|\n",
      "|          3|       1|     3|Heikkinen, Miss. ...|female|26.0|    0|    0|STON/O2. 3101282|  7.925| null|       S|\n",
      "|          4|       1|     1|Futrelle, Mrs. Ja...|female|35.0|    1|    0|          113803|   53.1| C123|       S|\n",
      "|          5|       0|     3|Allen, Mr. Willia...|  male|35.0|    0|    0|          373450|   8.05| null|       S|\n",
      "+-----------+--------+------+--------------------+------+----+-----+-----+----------------+-------+-----+--------+\n",
      "\n",
      "+-----------+--------+------+--------------------+------+----+-----+-----+----------------+-------+-----+--------+\n",
      "|PassengerId|Survived|Pclass|                Name|   Sex| Age|SibSp|Parch|          Ticket|   Fare|Cabin|Embarked|\n",
      "+-----------+--------+------+--------------------+------+----+-----+-----+----------------+-------+-----+--------+\n",
      "|          1|       0|     3|Braund, Mr. Owen ...|  male|22.0|    1|    0|       A/5 21171|   7.25| null|       S|\n",
      "|          2|       1|     1|Cumings, Mrs. Joh...|female|38.0|    1|    0|        PC 17599|71.2833|  C85|       C|\n",
      "|          3|       1|     3|Heikkinen, Miss. ...|female|26.0|    0|    0|STON/O2. 3101282|  7.925| null|       S|\n",
      "|          4|       1|     1|Futrelle, Mrs. Ja...|female|35.0|    1|    0|          113803|   53.1| C123|       S|\n",
      "|          5|       0|     3|Allen, Mr. Willia...|  male|35.0|    0|    0|          373450|   8.05| null|       S|\n",
      "+-----------+--------+------+--------------------+------+----+-----+-----+----------------+-------+-----+--------+\n",
      "\n",
      "+-----------+--------+------+--------------------+------+----+-----+-----+----------------+-------+-----+--------+\n",
      "|PassengerId|Survived|Pclass|                Name|   Sex| Age|SibSp|Parch|          Ticket|   Fare|Cabin|Embarked|\n",
      "+-----------+--------+------+--------------------+------+----+-----+-----+----------------+-------+-----+--------+\n",
      "|          1|       0|     3|Braund, Mr. Owen ...|  male|22.0|    1|    0|       A/5 21171|   7.25| null|       S|\n",
      "|          2|       1|     1|Cumings, Mrs. Joh...|female|38.0|    1|    0|        PC 17599|71.2833|  C85|       C|\n",
      "|          3|       1|     3|Heikkinen, Miss. ...|female|26.0|    0|    0|STON/O2. 3101282|  7.925| null|       S|\n",
      "|          4|       1|     1|Futrelle, Mrs. Ja...|female|35.0|    1|    0|          113803|   53.1| C123|       S|\n",
      "|          5|       0|     3|Allen, Mr. Willia...|  male|35.0|    0|    0|          373450|   8.05| null|       S|\n",
      "+-----------+--------+------+--------------------+------+----+-----+-----+----------------+-------+-----+--------+\n",
      "\n"
     ]
    }
   ],
   "source": [
    "# orderBy -> 단일 칼럼 기준으로 정렬\n",
    "spark_df.orderBy(\"PassengerId\", ascending=False).limit(5).show()\n",
    "spark_df.orderBy(col('PassengerId'), ascending=False).limit(5).show()\n",
    "spark_df.orderBy(col('PassengerId').desc()).limit(5).show()\n",
    "\n",
    "# orderBy -> 복수 칼럼 기준으로 정렬\n",
    "spark_df.orderBy(\"PassengerId\", \"Age\", ascending=[True, False]).limit(5).show()\n",
    "spark_df.orderBy(col(\"PassengerId\"), col(\"Age\"), ascending=[True, False]).limit(5).show()\n",
    "spark_df.orderBy(col(\"PassengerId\").asc(), col(\"Age\").desc()).limit(5).show()"
   ]
  },
  {
   "cell_type": "code",
   "execution_count": 69,
   "metadata": {},
   "outputs": [
    {
     "name": "stdout",
     "output_type": "stream",
     "text": [
      "+-----------+--------+--------------------+----+------+\n",
      "|PassengerId|Survived|                Name| Age|   Sex|\n",
      "+-----------+--------+--------------------+----+------+\n",
      "|        631|       1|Barkworth, Mr. Al...|80.0|  male|\n",
      "|        852|       0| Svensson, Mr. Johan|74.0|  male|\n",
      "|         97|       0|Goldschmidt, Mr. ...|71.0|  male|\n",
      "|        494|       0|Artagaveytia, Mr....|71.0|  male|\n",
      "|        117|       0|Connors, Mr. Patrick|70.5|  male|\n",
      "|        673|       0|Mitchell, Mr. Hen...|70.0|  male|\n",
      "|        746|       0|Crosby, Capt. Edw...|70.0|  male|\n",
      "|         34|       0|Wheadon, Mr. Edwa...|66.0|  male|\n",
      "|         55|       0|Ostby, Mr. Engelh...|65.0|  male|\n",
      "|        281|       0|    Duane, Mr. Frank|65.0|  male|\n",
      "|        457|       0|Millet, Mr. Franc...|65.0|  male|\n",
      "|        439|       0|   Fortune, Mr. Mark|64.0|  male|\n",
      "|        546|       0|Nicholson, Mr. Ar...|64.0|  male|\n",
      "|        276|       1|Andrews, Miss. Ko...|63.0|female|\n",
      "|        484|       1|Turkula, Mrs. (He...|63.0|female|\n",
      "|        253|       0|Stead, Mr. Willia...|62.0|  male|\n",
      "|        556|       0|  Wright, Mr. George|62.0|  male|\n",
      "|        571|       1|  Harris, Mr. George|62.0|  male|\n",
      "|        830|       1|Stone, Mrs. Georg...|62.0|female|\n",
      "|        171|       0|Van der hoef, Mr....|61.0|  male|\n",
      "+-----------+--------+--------------------+----+------+\n",
      "only showing top 20 rows\n",
      "\n"
     ]
    }
   ],
   "source": [
    "select_cols = [\"PassengerId\", \"Survived\", \"Name\", \"Age\", \"Sex\"]\n",
    "filter_cond = col(\"Age\") > 35\n",
    "\n",
    "spark_df.select(*select_cols) \\\n",
    "        .filter(filter_cond) \\\n",
    "        .orderBy(\"Age\", \"PassengerId\", ascending=[False, True]) \\\n",
    "        .show()"
   ]
  },
  {
   "cell_type": "code",
   "execution_count": 78,
   "metadata": {},
   "outputs": [
    {
     "name": "stdout",
     "output_type": "stream",
     "text": [
      "+--------+--------+\n",
      "|Survived|max(Age)|\n",
      "+--------+--------+\n",
      "|       1|    80.0|\n",
      "|       0|    74.0|\n",
      "+--------+--------+\n",
      "\n",
      "+--------+--------+\n",
      "|Survived|max(Age)|\n",
      "+--------+--------+\n",
      "|       1|    80.0|\n",
      "|       0|    74.0|\n",
      "+--------+--------+\n",
      "\n",
      "+--------+----------------+-------------+-----------+--------+----------+----------+---------+\n",
      "|Survived|max(PassengerId)|max(Survived)|max(Pclass)|max(Age)|max(SibSp)|max(Parch)|max(Fare)|\n",
      "+--------+----------------+-------------+-----------+--------+----------+----------+---------+\n",
      "|       1|             890|            1|          3|    80.0|         4|         5| 512.3292|\n",
      "|       0|             891|            0|          3|    74.0|         8|         6|    263.0|\n",
      "+--------+----------------+-------------+-----------+--------+----------+----------+---------+\n",
      "\n"
     ]
    }
   ],
   "source": [
    "spark_df.groupBy(\"Survived\").max(\"Age\").show()\n",
    "spark_df.groupBy(col(\"Survived\")).max(\"Age\").show()\n",
    "spark_df.groupBy(spark_df.Survived).max().show()  # 모든 칼럼에 대해 max 집계 됨"
   ]
  },
  {
   "cell_type": "code",
   "execution_count": 80,
   "metadata": {},
   "outputs": [
    {
     "name": "stdout",
     "output_type": "stream",
     "text": [
      "+------+--------+--------+\n",
      "|   Sex|Survived|max(Age)|\n",
      "+------+--------+--------+\n",
      "|  male|       0|    74.0|\n",
      "|female|       1|    63.0|\n",
      "|female|       0|    57.0|\n",
      "|  male|       1|    80.0|\n",
      "+------+--------+--------+\n",
      "\n",
      "+------+--------+--------+\n",
      "|   Sex|Survived|max(Age)|\n",
      "+------+--------+--------+\n",
      "|  male|       0|    74.0|\n",
      "|female|       1|    63.0|\n",
      "|female|       0|    57.0|\n",
      "|  male|       1|    80.0|\n",
      "+------+--------+--------+\n",
      "\n"
     ]
    }
   ],
   "source": [
    "# 여러 칼럼을 기준으로 그룹핑\n",
    "spark_df.groupBy(\"Sex\", \"Survived\").max(\"Age\").show()\n",
    "spark_df.groupBy([\"Sex\", \"Survived\"]).max(\"Age\").show()  # 리스트 형태로 넣어도 정상동작함"
   ]
  },
  {
   "cell_type": "code",
   "execution_count": 81,
   "metadata": {},
   "outputs": [
    {
     "name": "stdout",
     "output_type": "stream",
     "text": [
      "+------+--------+-------+-------+------------------+\n",
      "|   Sex|Survived|Max_Age|Min_Age|          Avg_Fare|\n",
      "+------+--------+-------+-------+------------------+\n",
      "|  male|       0|   74.0|    1.0|21.960992948717944|\n",
      "|female|       1|   63.0|   0.75| 51.93857339055791|\n",
      "|female|       0|   57.0|    2.0| 23.02438518518519|\n",
      "|  male|       1|   80.0|   0.42| 40.82148440366974|\n",
      "+------+--------+-------+-------+------------------+\n",
      "\n"
     ]
    }
   ],
   "source": [
    "spark_df.groupBy(col(\"Sex\"), col(\"Survived\")) \\\n",
    "        .agg(max(\"Age\").alias(\"Max_Age\"),\n",
    "            min(\"Age\").alias(\"Min_Age\"),\n",
    "            avg(\"Fare\").alias(\"Avg_Fare\")) \\\n",
    "        .show()"
   ]
  },
  {
   "cell_type": "code",
   "execution_count": 82,
   "metadata": {},
   "outputs": [],
   "source": [
    "# cmd36 부터!"
   ]
  },
  {
   "cell_type": "code",
   "execution_count": null,
   "metadata": {},
   "outputs": [],
   "source": []
  }
 ],
 "metadata": {
  "hide_input": false,
  "kernelspec": {
   "display_name": "Python 3",
   "language": "python",
   "name": "python3"
  },
  "language_info": {
   "codemirror_mode": {
    "name": "ipython",
    "version": 3
   },
   "file_extension": ".py",
   "mimetype": "text/x-python",
   "name": "python",
   "nbconvert_exporter": "python",
   "pygments_lexer": "ipython3",
   "version": "3.7.6"
  },
  "toc": {
   "base_numbering": 1,
   "nav_menu": {},
   "number_sections": true,
   "sideBar": true,
   "skip_h1_title": false,
   "title_cell": "Table of Contents",
   "title_sidebar": "Contents",
   "toc_cell": true,
   "toc_position": {},
   "toc_section_display": true,
   "toc_window_display": false
  },
  "varInspector": {
   "cols": {
    "lenName": 16,
    "lenType": 16,
    "lenVar": 40
   },
   "kernels_config": {
    "python": {
     "delete_cmd_postfix": "",
     "delete_cmd_prefix": "del ",
     "library": "var_list.py",
     "varRefreshCmd": "print(var_dic_list())"
    },
    "r": {
     "delete_cmd_postfix": ") ",
     "delete_cmd_prefix": "rm(",
     "library": "var_list.r",
     "varRefreshCmd": "cat(var_dic_list()) "
    }
   },
   "types_to_exclude": [
    "module",
    "function",
    "builtin_function_or_method",
    "instance",
    "_Feature"
   ],
   "window_display": false
  }
 },
 "nbformat": 4,
 "nbformat_minor": 5
}
