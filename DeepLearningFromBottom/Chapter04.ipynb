{
 "cells": [
  {
   "cell_type": "markdown",
   "id": "attached-offer",
   "metadata": {
    "toc": true
   },
   "source": [
    "<h1>Table of Contents<span class=\"tocSkip\"></span></h1>\n",
    "<div class=\"toc\"><ul class=\"toc-item\"></ul></div>"
   ]
  },
  {
   "cell_type": "code",
   "execution_count": 1,
   "id": "light-decision",
   "metadata": {},
   "outputs": [],
   "source": [
    "import numpy as np"
   ]
  },
  {
   "cell_type": "code",
   "execution_count": 8,
   "id": "undefined-summary",
   "metadata": {},
   "outputs": [
    {
     "name": "stdout",
     "output_type": "stream",
     "text": [
      "0.19500000000000006\n",
      "1.395\n"
     ]
    }
   ],
   "source": [
    "# SSE(Sum of Squares for Error, 오차제곱합) 손실함수 구현\n",
    "def sse(y, t):\n",
    "    loss = np.sum((y - t) ** 2)\n",
    "    return loss\n",
    "    \n",
    "\n",
    "# 정답에 근사했을 경우\n",
    "y = np.array([0.1, 0.05, 0.6, 0., 0.05, 0.1, 0., 0.1, 0., 0,])\n",
    "t = np.array([0, 0, 1, 0, 0, 0, 0, 0, 0, 0])\n",
    "\n",
    "loss = sse(y, t)\n",
    "print(loss)\n",
    "\n",
    "# 정답과 멀을 경우\n",
    "y = np.array([0.1, 0.05, 0.6, 0., 0.05, 0.1, 0., 0.1, 0., 0,])\n",
    "t = np.array([0, 0, 0, 0, 0, 0, 1, 0, 0, 0])\n",
    "\n",
    "loss = sse(y, t)\n",
    "print(loss)"
   ]
  },
  {
   "cell_type": "code",
   "execution_count": 9,
   "id": "recovered-magazine",
   "metadata": {},
   "outputs": [
    {
     "name": "stdout",
     "output_type": "stream",
     "text": [
      "0.510825457099338\n",
      "16.118095650958317\n"
     ]
    }
   ],
   "source": [
    "def cross_entropy(y, t):\n",
    "    delta = 1e-7\n",
    "    loss = -np.sum(t * np.log(y + delta))\n",
    "    return loss\n",
    "\n",
    "# 정답에 근사했을 경우\n",
    "y = np.array([0.1, 0.05, 0.6, 0., 0.05, 0.1, 0., 0.1, 0., 0,])\n",
    "t = np.array([0, 0, 1, 0, 0, 0, 0, 0, 0, 0])\n",
    "\n",
    "loss = cross_entropy(y, t)\n",
    "print(loss)\n",
    "\n",
    "# 정답과 멀을 경우\n",
    "y = np.array([0.1, 0.05, 0.6, 0., 0.05, 0.1, 0., 0.1, 0., 0,])\n",
    "t = np.array([0, 0, 0, 0, 0, 0, 1, 0, 0, 0])\n",
    "\n",
    "loss = cross_entropy(y, t)\n",
    "print(loss)"
   ]
  },
  {
   "cell_type": "code",
   "execution_count": 19,
   "id": "instant-error",
   "metadata": {},
   "outputs": [
    {
     "data": {
      "text/plain": [
       "9"
      ]
     },
     "execution_count": 19,
     "metadata": {},
     "output_type": "execute_result"
    }
   ],
   "source": [
    "a = np.array([[1,2,3], [4,5,6], [7,8,9]])\n",
    "a.size"
   ]
  },
  {
   "cell_type": "code",
   "execution_count": 21,
   "id": "expressed-athletics",
   "metadata": {},
   "outputs": [
    {
     "name": "stdout",
     "output_type": "stream",
     "text": [
      "(60000, 784) (60000, 10)\n"
     ]
    }
   ],
   "source": [
    "from dataset.mnist import load_mnist\n",
    "\n",
    "(X_train, y_train), (X_test, y_test) = load_mnist(normalize=True, one_hot_label=True)\n",
    "print(X_train.shape, y_train.shape)\n"
   ]
  },
  {
   "cell_type": "code",
   "execution_count": 26,
   "id": "palestinian-representation",
   "metadata": {},
   "outputs": [
    {
     "name": "stdout",
     "output_type": "stream",
     "text": [
      "(10, 784) (10, 10)\n"
     ]
    }
   ],
   "source": [
    "# 배치 사이즈만큼의 배치 데이터 추출\n",
    "train_size = X_train.shape[0]\n",
    "batch_size = 10\n",
    "batch_index = np.random.choice(train_size, batch_size)\n",
    "\n",
    "X_train_batch = X_train[batch_index]\n",
    "y_train_batch = y_train[batch_index]\n",
    "print(X_train_batch.shape, y_train_batch.shape)"
   ]
  },
  {
   "cell_type": "code",
   "execution_count": 27,
   "id": "incorporated-tumor",
   "metadata": {},
   "outputs": [],
   "source": [
    "# 레이블이 원-핫 인코딩일 경우 CEE 손실함수\n",
    "def cross_entropy_ohe(y, t):\n",
    "    # 데이터가 1개만 들어왔을 경우(1차원) -> 2차원으로 변환\n",
    "    if y.ndim == 1:\n",
    "        y = y.reshape(1, y.size)\n",
    "        t = t.reshape(1, t.size)\n",
    "    \n",
    "    batch_size = y.shape[0]\n",
    "    loss = -np.sum(t * np.log(y + 1e-7))\n",
    "    return loss"
   ]
  },
  {
   "cell_type": "code",
   "execution_count": 49,
   "id": "bigger-reach",
   "metadata": {},
   "outputs": [
    {
     "name": "stdout",
     "output_type": "stream",
     "text": [
      "2.8765232086181642\n"
     ]
    }
   ],
   "source": [
    "from dataset.mnist import load_mnist\n",
    "import pickle\n",
    "\n",
    "(X_train, y_train), (X_test, y_test) = load_mnist(normalize=True, one_hot_label=False)\n",
    "\n",
    "def init_network():\n",
    "    with open('/Users/younghun/Desktop/gitrepo/deep-learning-from-scratch/ch03/sample_weight.pkl', 'rb') as f:\n",
    "        network = pickle.load(f)\n",
    "    return network\n",
    "\n",
    "def sigmoid(x):\n",
    "    return 1 / (1 + np.exp(-x))\n",
    "\n",
    "def softmax(x):\n",
    "    max_x = np.max(x)\n",
    "    exp_x = np.exp(x - max_x)\n",
    "    exp_x_sum = np.sum(exp_x)\n",
    "    return exp_x / exp_x_sum\n",
    "\n",
    "def forward(network, x):\n",
    "    w1, w2, w3 = network['W1'], network['W2'], network['W3']\n",
    "    b1, b2, b3 = network['b1'], network['b2'], network['b3']\n",
    "    \n",
    "    a1 = np.matmul(x, w1) + b1\n",
    "    z1 = sigmoid(a1)\n",
    "    a2 = np.matmul(z1, w2) + b2\n",
    "    z2 = sigmoid(a2)\n",
    "    a3 = np.matmul(z2, w3) + b3\n",
    "    y = softmax(a3)\n",
    "    \n",
    "    return y\n",
    "\n",
    "batch_size = 10\n",
    "batch_idx = np.random.choice(X_train.shape[0], batch_size)\n",
    "X_batch = X_train[batch_idx]\n",
    "y_batch = y_train[batch_idx]\n",
    "\n",
    "network = init_network()\n",
    "y_pred = forward(network, X_batch)\n",
    "\n",
    "def cross_entropy(y, t):\n",
    "    if y.ndim == 1:\n",
    "        t = t.reshape(1, t.size)\n",
    "        y = y.reshape(1, y.size)\n",
    "        \n",
    "    batch_size = y.shape[0]\n",
    "    #print(y.shape, t.shape)                            # y는 2차원(원-핫인코딩) t는 1차원(레이블인코딩)\n",
    "    #이해못했던 부분!)=> print(y[np.arange(batch_size), t]) # y값의 열 인덱스 번호 = t의 레이블 값임!\n",
    "    loss = -np.sum(np.log(y[np.arange(batch_size), t] + 1e-7)) / batch_size\n",
    "    return loss\n",
    "\n",
    "loss = cross_entropy(y_pred, y_batch)\n",
    "print(loss)"
   ]
  },
  {
   "cell_type": "code",
   "execution_count": null,
   "id": "narrative-windsor",
   "metadata": {},
   "outputs": [],
   "source": []
  }
 ],
 "metadata": {
  "hide_input": false,
  "kernelspec": {
   "display_name": "Python 3",
   "language": "python",
   "name": "python3"
  },
  "language_info": {
   "codemirror_mode": {
    "name": "ipython",
    "version": 3
   },
   "file_extension": ".py",
   "mimetype": "text/x-python",
   "name": "python",
   "nbconvert_exporter": "python",
   "pygments_lexer": "ipython3",
   "version": "3.7.7"
  },
  "toc": {
   "base_numbering": 1,
   "nav_menu": {},
   "number_sections": true,
   "sideBar": true,
   "skip_h1_title": false,
   "title_cell": "Table of Contents",
   "title_sidebar": "Contents",
   "toc_cell": true,
   "toc_position": {},
   "toc_section_display": true,
   "toc_window_display": false
  },
  "varInspector": {
   "cols": {
    "lenName": 16,
    "lenType": 16,
    "lenVar": 40
   },
   "kernels_config": {
    "python": {
     "delete_cmd_postfix": "",
     "delete_cmd_prefix": "del ",
     "library": "var_list.py",
     "varRefreshCmd": "print(var_dic_list())"
    },
    "r": {
     "delete_cmd_postfix": ") ",
     "delete_cmd_prefix": "rm(",
     "library": "var_list.r",
     "varRefreshCmd": "cat(var_dic_list()) "
    }
   },
   "types_to_exclude": [
    "module",
    "function",
    "builtin_function_or_method",
    "instance",
    "_Feature"
   ],
   "window_display": false
  }
 },
 "nbformat": 4,
 "nbformat_minor": 5
}
