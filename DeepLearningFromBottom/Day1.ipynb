{
 "cells": [
  {
   "cell_type": "markdown",
   "id": "referenced-renaissance",
   "metadata": {
    "toc": true
   },
   "source": [
    "<h1>Table of Contents<span class=\"tocSkip\"></span></h1>\n",
    "<div class=\"toc\"><ul class=\"toc-item\"></ul></div>"
   ]
  },
  {
   "cell_type": "code",
   "execution_count": 2,
   "id": "incoming-california",
   "metadata": {},
   "outputs": [
    {
     "name": "stdout",
     "output_type": "stream",
     "text": [
      "0\n",
      "0\n",
      "0\n",
      "1\n"
     ]
    }
   ],
   "source": [
    "# AND gate\n",
    "def AND(x, y):\n",
    "    w1, w2, theta = 0.5, 0.5, 0.7\n",
    "    tmp = w1*x + w2*y\n",
    "    if tmp <= theta:\n",
    "        return 0\n",
    "    else:\n",
    "        return 1\n",
    "    \n",
    "print(AND(0, 0))\n",
    "print(AND(1, 0))\n",
    "print(AND(0, 1))\n",
    "print(AND(1, 1))"
   ]
  },
  {
   "cell_type": "code",
   "execution_count": 3,
   "id": "capable-amino",
   "metadata": {},
   "outputs": [
    {
     "name": "stdout",
     "output_type": "stream",
     "text": [
      "0\n",
      "0\n",
      "0\n",
      "1\n"
     ]
    }
   ],
   "source": [
    "# bias를 도입한 AND gate\n",
    "def AND(x, y):\n",
    "    w1, w2 = 0.5, 0.5\n",
    "    b = -0.7\n",
    "    tmp = w1*x + w1*y + b\n",
    "    if tmp <= 0:\n",
    "        return 0\n",
    "    else:\n",
    "        return 1\n",
    "\n",
    "print(AND(0, 0))\n",
    "print(AND(1, 0))\n",
    "print(AND(0, 1))\n",
    "print(AND(1, 1))"
   ]
  },
  {
   "cell_type": "code",
   "execution_count": 5,
   "id": "pressing-gentleman",
   "metadata": {},
   "outputs": [
    {
     "name": "stdout",
     "output_type": "stream",
     "text": [
      "0\n",
      "1\n",
      "1\n",
      "0\n"
     ]
    }
   ],
   "source": [
    "# 가중치에 어떤 값을 부여할지는 현재 인간의 몫!\n",
    "def AND(x, y):\n",
    "    x = np.array([x, y])\n",
    "    w = np.array([0.5, 0.5])\n",
    "    b = -0.7\n",
    "    tmp = np.sum(x*w) + b\n",
    "    if tmp <= 0:\n",
    "        return 0\n",
    "    else:\n",
    "        return 1\n",
    "\n",
    "def NAND(x, y):\n",
    "    x = np.array([x, y])\n",
    "    w = np.array([-0.5, -0.5])\n",
    "    b = 0.7\n",
    "    tmp = np.sum(x*w) + b\n",
    "    if tmp <= 0:\n",
    "        return 0\n",
    "    else:\n",
    "        return 1\n",
    "    \n",
    "def OR(x, y):\n",
    "    x = np.array([x, y])\n",
    "    w = np.array([0.5, 0.5])\n",
    "    b = -0.2\n",
    "    tmp = np.sum(x*w) + b\n",
    "    if tmp <= 0:\n",
    "        return 0\n",
    "    else:\n",
    "        return 1\n",
    "    \n",
    "def XOR(x, y):\n",
    "    s1 = NAND(x, y)\n",
    "    s2 = OR(x, y)\n",
    "    xor = AND(s1, s2)\n",
    "    return xor\n",
    "\n",
    "# XOR의 X는 Exclusive(배타적인=자기외는 거부.. 그러므로 1개만 1인것만 1로 출력! 둘다 동일하면 0을 출력)\n",
    "print(XOR(0, 0))\n",
    "print(XOR(0, 1))\n",
    "print(XOR(1, 0))\n",
    "print(XOR(1, 1))"
   ]
  },
  {
   "cell_type": "code",
   "execution_count": 14,
   "id": "talented-thong",
   "metadata": {},
   "outputs": [
    {
     "name": "stdout",
     "output_type": "stream",
     "text": [
      "[0 0 0 0 0 0 0 0 0 0 0 0 0 0 0 0 0 0 0 0 0 0 0 0 0 0 0 0 0 0 0 0 0 0 0 0 0\n",
      " 0 0 0 0 0 0 0 0 0 0 0 0 0 0 1 1 1 1 1 1 1 1 1 1 1 1 1 1 1 1 1 1 1 1 1 1 1\n",
      " 1 1 1 1 1 1 1 1 1 1 1 1 1 1 1 1 1 1 1 1 1 1 1 1 1 1]\n"
     ]
    },
    {
     "data": {
      "image/png": "[encoded data removed]",
      "text/plain": [
       "<Figure size 432x288 with 1 Axes>"
      ]
     },
     "metadata": {
      "needs_background": "light"
     },
     "output_type": "display_data"
    }
   ],
   "source": [
    "# 단층퍼셉트론의 함수인 계단함수 구현\n",
    "import numpy as np\n",
    "import matplotlib.pyplot as plt\n",
    "\n",
    "def step_function(x):\n",
    "    y = x > 0  # x에 np.array 넣으면 Boolean 인덱싱 적용됨\n",
    "    return y.astype(int)\n",
    "\n",
    "def step_function(x):\n",
    "    return np.array(x > 0, dtype=int)\n",
    "\n",
    "\n",
    "x = np.arange(-5.0, 5.0, 0.1)\n",
    "y = step_function(x)\n",
    "print(y)\n",
    "plt.plot(x, y)\n",
    "plt.ylim(-0.1, 1.1)\n",
    "plt.show()"
   ]
  },
  {
   "cell_type": "code",
   "execution_count": 18,
   "id": "ordered-lighting",
   "metadata": {},
   "outputs": [
    {
     "data": {
      "image/png": "[encoded data removed]",
      "text/plain": [
       "<Figure size 432x288 with 1 Axes>"
      ]
     },
     "metadata": {
      "needs_background": "light"
     },
     "output_type": "display_data"
    }
   ],
   "source": [
    "# 시그모이드 함수를 plot\n",
    "def sigmoid(x):\n",
    "    return 1 / (1 + np.exp(-x))\n",
    "\n",
    "x = np.arange(-5.0, 5.0, 1.1)\n",
    "y = sigmoid(x)\n",
    "\n",
    "plt.plot(x, y)\n",
    "plt.ylim(-0.1, 1.1)\n",
    "plt.show()"
   ]
  },
  {
   "cell_type": "code",
   "execution_count": 27,
   "id": "certain-steal",
   "metadata": {},
   "outputs": [
    {
     "data": {
      "image/png": "[encoded data removed]",
      "text/plain": [
       "<Figure size 432x288 with 1 Axes>"
      ]
     },
     "metadata": {
      "needs_background": "light"
     },
     "output_type": "display_data"
    }
   ],
   "source": [
    "# Relu 활성화 함수 -> 입력이 음수인 것들은 차단!\n",
    "\n",
    "def relu(x):\n",
    "    return np.maximum(0, x)\n",
    "\n",
    "x = np.arange(-10.0, 10.0, 4)\n",
    "y = relu(x)\n",
    "\n",
    "plt.plot(x, y)\n",
    "plt.ylim(-0.1, 1.1)\n",
    "plt.show()"
   ]
  },
  {
   "cell_type": "code",
   "execution_count": 36,
   "id": "chinese-cisco",
   "metadata": {},
   "outputs": [
    {
     "name": "stdout",
     "output_type": "stream",
     "text": [
      "[[ 27  30  33]\n",
      " [ 61  68  75]\n",
      " [ 95 106 117]]\n",
      "\n",
      "[[ 27  30  33]\n",
      " [ 61  68  75]\n",
      " [ 95 106 117]]\n",
      "[[ 7 10]\n",
      " [15 22]\n",
      " [23 34]] (3, 2)\n"
     ]
    }
   ],
   "source": [
    "# 행렬 곱(dot product)\n",
    "a = np.array([[1,2],[3,4], [5,6]]) # shape(3,2)\n",
    "b = np.array([[7,8,9], [10,11,12]]) # shape(2,3)\n",
    "\n",
    "print(np.dot(a, b)) # shape(3, 3) -> (a, b) dot (b, a) => (a, a) shape\n",
    "print()\n",
    "print(np.matmul(a, b)) # np.matmul도 동일한 기능!\n",
    "\n",
    "# A의 1번째 차원의 원소 수 = B의 0번째 차원의 원소 수 만족해야함!\n",
    "A = np.array([[1,2], [3,4], [5,6]])  # shape(3, 2)\n",
    "B = np.array([[1,2], [3,4]])  # shape(2, 2)\n",
    "\n",
    "res = np.dot(A, B)\n",
    "print(res, res.shape) # shape(3, 2) -> 곱한 결과의 shape = (A의 0번째 차원 수, B의 1번째 차원 수)"
   ]
  },
  {
   "cell_type": "code",
   "execution_count": 40,
   "id": "particular-mitchell",
   "metadata": {},
   "outputs": [
    {
     "name": "stdout",
     "output_type": "stream",
     "text": [
      "[ 5 11 17]\n",
      "[ 5 11 17]\n"
     ]
    }
   ],
   "source": [
    "a = np.array([[1,2], [3,4], [5,6]]) # shape(3, 2)\n",
    "b = np.array([1,2]) # shape(2,)\n",
    "\n",
    "print(np.dot(a, b)) # shape(3,)\n",
    "print(np.dot(b, a.T)) # shape(2, 3) dot (3,) => (3,)"
   ]
  },
  {
   "cell_type": "code",
   "execution_count": 42,
   "id": "stainless-judgment",
   "metadata": {},
   "outputs": [
    {
     "name": "stdout",
     "output_type": "stream",
     "text": [
      "[ 7 10 13] (3,)\n"
     ]
    }
   ],
   "source": [
    "# 신경망에서 행렬 곱 표현(활성함수, bias 생략)\n",
    "x = np.array([1, 2]) # shape (2,)\n",
    "w = np.array([[1, 2, 3], [3,4,5]]) # shape(2, 3)\n",
    "y = np.dot(x, w) # shape (3,)\n",
    "print(y, y.shape)"
   ]
  },
  {
   "cell_type": "code",
   "execution_count": 47,
   "id": "mexican-newsletter",
   "metadata": {},
   "outputs": [
    {
     "name": "stdout",
     "output_type": "stream",
     "text": [
      "[[ 7.64685638]\n",
      " [12.20294257]] (2, 1)\n"
     ]
    }
   ],
   "source": [
    "# 신경망 3층 Forward 구현하기\n",
    "import numpy as np\n",
    "\n",
    "def relu(x):\n",
    "    return np.maximum(0, x)\n",
    "\n",
    "def init_network():\n",
    "    network = {}\n",
    "    network['W1'] = np.random.rand(2, 3)\n",
    "    network['b1'] = np.ones(3,)\n",
    "    network['W2'] = np.random.rand(3, 2)\n",
    "    network['b2'] = np.ones(2,)\n",
    "    network['W3'] = np.random.rand(2, 1)\n",
    "    network['b3'] = np.ones(1,)\n",
    "    return network\n",
    "\n",
    "def forward(network, x):\n",
    "    w1, w2, w3 = network['W1'], network['W2'], network['W3']\n",
    "    b1, b2, b3 = network['b1'], network['b2'], network['b3']\n",
    "    \n",
    "    # layers\n",
    "    a1 = np.matmul(x, w1) + b1\n",
    "    a2 = np.matmul(a1, w2) + b2\n",
    "    a3 = np.matmul(a2, w3) + b3\n",
    "    # activation\n",
    "    out = relu(a3)\n",
    "    \n",
    "    return out\n",
    "\n",
    "# shape 형상 과정 : (2, 2) x (2, 3) => (2, 3) x (3, 2) => (2, 2) x (2, 1) => 최종: (2, 1)\n",
    "network = init_network()\n",
    "x = np.array([[1, 2], [3, 4]])  \n",
    "output = forward(network, x)\n",
    "print(output, output.shape)"
   ]
  },
  {
   "cell_type": "code",
   "execution_count": 11,
   "id": "retained-printing",
   "metadata": {},
   "outputs": [],
   "source": [
    "# Softmax 활성함수 but array의 요소값이 너무 커지면 오버플로우 발생 \n",
    "def softmax(a: np.array):\n",
    "    exp_a = np.exp(a)\n",
    "    exp_a_sum = np.sum(exp_a)\n",
    "    y = exp_a / exp_a_sum\n",
    "    \n",
    "    return y"
   ]
  },
  {
   "cell_type": "code",
   "execution_count": 13,
   "id": "infectious-regard",
   "metadata": {},
   "outputs": [
    {
     "name": "stdout",
     "output_type": "stream",
     "text": [
      "[nan nan nan]\n"
     ]
    },
    {
     "name": "stderr",
     "output_type": "stream",
     "text": [
      "/Users/younghun/opt/anaconda3/envs/venvforpython/lib/python3.7/site-packages/ipykernel_launcher.py:3: RuntimeWarning: overflow encountered in exp\n",
      "  This is separate from the ipykernel package so we can avoid doing imports until\n",
      "/Users/younghun/opt/anaconda3/envs/venvforpython/lib/python3.7/site-packages/ipykernel_launcher.py:5: RuntimeWarning: invalid value encountered in true_divide\n",
      "  \"\"\"\n"
     ]
    }
   ],
   "source": [
    "a = np.array([1010, 1000, 990])  # NaN 발생\n",
    "print(softmax(a))"
   ]
  },
  {
   "cell_type": "code",
   "execution_count": 16,
   "id": "designing-combining",
   "metadata": {},
   "outputs": [
    {
     "name": "stdout",
     "output_type": "stream",
     "text": [
      "[9.99954600e-01 4.53978686e-05 2.06106005e-09]\n"
     ]
    }
   ],
   "source": [
    "# 오버플로우를 막기위한 Softmax 재구현 -> array 원소를 array 원소의 최댓값을 더하거나 빼서 방지(원소의 값 크기에 따라 더하거나 빼는 것 선택)\n",
    "def softmax(a: np.array):\n",
    "    max_a = max(a)\n",
    "    exp_a = np.exp(a - max_a)\n",
    "    exp_a_sum = np.sum(exp_a)\n",
    "    y = exp_a / exp_a_sum\n",
    "    return y\n",
    "\n",
    "a = np.array([1010, 1000, 990])\n",
    "print(softmax(a))"
   ]
  },
  {
   "cell_type": "code",
   "execution_count": 30,
   "id": "olive-broadcasting",
   "metadata": {},
   "outputs": [
    {
     "name": "stdout",
     "output_type": "stream",
     "text": [
      "2\n",
      "(28, 28)\n"
     ]
    }
   ],
   "source": [
    "import sys, os\n",
    "sys.path.append(os.pardir)\n",
    "\n",
    "from dataset.mnist import load_mnist\n",
    "import numpy as np\n",
    "from PIL import Image\n",
    "\n",
    "(x_train, t_train), (x_test, t_test) = load_mnist(flatten=True, normalize=False)\n",
    "\n",
    "img = x_train[5]\n",
    "label = t_train[5\n",
    "               ]\n",
    "print(label)\n",
    "\n",
    "def img_show(img):\n",
    "    pil_img = Image.fromarray(np.uint8(img))\n",
    "    pil_img.show()\n",
    "    \n",
    "img = img.reshape(28, 28)\n",
    "print(img.shape)\n",
    "\n",
    "img_show(img)"
   ]
  },
  {
   "cell_type": "code",
   "execution_count": 32,
   "id": "forward-maine",
   "metadata": {},
   "outputs": [
    {
     "data": {
      "text/plain": [
       "(60000, 784)"
      ]
     },
     "execution_count": 32,
     "metadata": {},
     "output_type": "execute_result"
    }
   ],
   "source": [
    "x_train.shape"
   ]
  },
  {
   "cell_type": "code",
   "execution_count": 39,
   "id": "eastern-trailer",
   "metadata": {},
   "outputs": [],
   "source": [
    "from dataset.mnist import load_mnist\n",
    "import numpy as np\n",
    "import pickle\n",
    "\n",
    "path = '/Users/younghun/Desktop/gitrepo/deep-learning-from-scratch/ch03'\n",
    "\n",
    "def get_data():\n",
    "    (X_train, y_train), (X_test, y_test) = load_mnist(flatten=True, normalize=True, one_hot_label=False)\n",
    "    return X_test, y_test\n",
    "\n",
    "def sigmoid(x):\n",
    "    y = 1 / (1 + np.exp(-x))\n",
    "    return y\n",
    "\n",
    "def softmax(x):\n",
    "    max_x = np.max(x)\n",
    "    exp_x = np.exp(x - max_x)\n",
    "    exp_x_sum = np.sum(exp_x)\n",
    "    y = exp_x / exp_x_sum\n",
    "    \n",
    "    return y\n",
    "\n",
    "def init_network():\n",
    "    global path\n",
    "    with open(os.path.join(path, 'sample_weight.pkl'), 'rb') as f: # 'rb'는 바이트 형식으로 데이터를 읽어옴\n",
    "        network = pickle.load(f)\n",
    "    return network\n",
    "\n",
    "def predict(network, x):\n",
    "    w1, w2, w3 = network['W1'], network['W2'], network['W3']\n",
    "    b1, b2, b3 = network['b1'], network['b2'], network['b3']\n",
    "    \n",
    "    a1 = np.matmul(x, w1) + b1\n",
    "    z1 = sigmoid(a1)\n",
    "    a2 = np.matmul(z1, w2) + b2\n",
    "    z2 = sigmoid(a2)\n",
    "    a3 = np.matmul(z2, w3) + b3\n",
    "    y = softmax(a3)\n",
    "    \n",
    "    return y"
   ]
  },
  {
   "cell_type": "code",
   "execution_count": 41,
   "id": "skilled-chest",
   "metadata": {},
   "outputs": [
    {
     "name": "stdout",
     "output_type": "stream",
     "text": [
      "Accuracy: 0.9352\n"
     ]
    }
   ],
   "source": [
    "X_test, y_test = get_data()\n",
    "network = init_network()\n",
    "\n",
    "accuracy = 0\n",
    "for i in range(len(X_test)):\n",
    "    x = X_test[i]\n",
    "    y_prob = predict(network, x)\n",
    "    y_pred = np.argmax(y_prob)\n",
    "    \n",
    "    if y_pred == y_test[i]:\n",
    "        accuracy += 1\n",
    "\n",
    "print('Accuracy:', accuracy / len(X_test))"
   ]
  },
  {
   "cell_type": "code",
   "execution_count": 42,
   "id": "common-master",
   "metadata": {},
   "outputs": [
    {
     "name": "stdout",
     "output_type": "stream",
     "text": [
      "Accuracy(Batch): 0.9352\n"
     ]
    }
   ],
   "source": [
    "# 이번엔 배치로 묶어서 inference 하기\n",
    "X_test, y_test = get_data()\n",
    "network = init_network()\n",
    "\n",
    "batch_size = 100\n",
    "accuracy = 0\n",
    "for i in range(0, len(X_test), batch_size):\n",
    "    x = X_test[i:i+batch_size]\n",
    "    y_prob = predict(network, x)\n",
    "    y_pred = np.argmax(y_prob, axis=1) # 1번째 차원 축을 중심으로 argmax\n",
    "    \n",
    "    accuracy += np.sum(y_pred == y_test[i:i+batch_size])\n",
    "\n",
    "print('Accuracy(Batch):', accuracy / len(X_test))"
   ]
  },
  {
   "cell_type": "code",
   "execution_count": 43,
   "id": "whole-tokyo",
   "metadata": {},
   "outputs": [
    {
     "name": "stdout",
     "output_type": "stream",
     "text": [
      "[5 7 9]\n",
      "[-3 -3 -3]\n",
      "[ 4 10 18]\n",
      "[0.25 0.4  0.5 ]\n"
     ]
    }
   ],
   "source": [
    "a = np.array([1,2,3])\n",
    "b = np.array([4,5,6])\n",
    "print(a + b)\n",
    "print(a - b)\n",
    "print(a * b)\n",
    "print(a / b)"
   ]
  },
  {
   "cell_type": "code",
   "execution_count": 50,
   "id": "fleet-exhibition",
   "metadata": {},
   "outputs": [
    {
     "name": "stdout",
     "output_type": "stream",
     "text": [
      "Accuracy(Mini-batch): 0.9352\n"
     ]
    }
   ],
   "source": [
    "from dataset.mnist import load_mnist\n",
    "import numpy as np\n",
    "import pickle\n",
    "\n",
    "path = '/Users/younghun/Desktop/gitrepo/deep-learning-from-scratch/ch03'\n",
    "\n",
    "def get_data():\n",
    "    (X_train, y_train), (X_test, y_test) = load_mnist(flatten=True, normalize=True, one_hot_label=False)\n",
    "    return X_test, y_test\n",
    "\n",
    "def init_network():\n",
    "    with open(os.path.join(path, 'sample_weight.pkl'), 'rb') as f:\n",
    "        network = pickle.load(f)\n",
    "        \n",
    "    return network\n",
    "\n",
    "def sigmoid(x):\n",
    "    return 1 / (1 + np.exp(-x))\n",
    "\n",
    "def softmax(x: np.array):\n",
    "    max_x = np.max(x)\n",
    "    exp_x = np.exp(x - max_x)\n",
    "    exp_x_sum = np.sum(exp_x)\n",
    "    y = exp_x / exp_x_sum\n",
    "    \n",
    "    return y\n",
    "\n",
    "def forward(network, x):\n",
    "    w1, w2, w3 = network['W1'], network['W2'], network['W3']\n",
    "    b1, b2, b3 = network['b1'], network['b2'], network['b3']\n",
    "    \n",
    "    # Layer\n",
    "    a1 = np.matmul(x, w1) + b1\n",
    "    z1 = sigmoid(a1)\n",
    "    a2 = np.matmul(z1, w2) + b2\n",
    "    z2 = sigmoid(a2)\n",
    "    a3 = np.matmul(z2, w3) + b3\n",
    "    y = softmax(a3)\n",
    "    \n",
    "    return y\n",
    "\n",
    "X_test, y_test = get_data()\n",
    "network = init_network()\n",
    "batch_size = 100\n",
    "accuracy = 0\n",
    "\n",
    "for i in range(0, len(X_test), batch_size):\n",
    "    x = X_test[i:i+batch_size]\n",
    "    y_proba = forward(network, x)\n",
    "    y_pred = np.argmax(y_proba, axis=1)\n",
    "    \n",
    "    # Boolean 값으로 변환 -> 같으면 True, 틀리면 False\n",
    "    accuracy += np.sum(y_pred == y_test[i:i+batch_size])\n",
    "\n",
    "print('Accuracy(Mini-batch):', accuracy / len(X_test))"
   ]
  },
  {
   "cell_type": "code",
   "execution_count": null,
   "id": "sorted-sydney",
   "metadata": {},
   "outputs": [],
   "source": []
  }
 ],
 "metadata": {
  "hide_input": false,
  "kernelspec": {
   "display_name": "Python 3",
   "language": "python",
   "name": "python3"
  },
  "language_info": {
   "codemirror_mode": {
    "name": "ipython",
    "version": 3
   },
   "file_extension": ".py",
   "mimetype": "text/x-python",
   "name": "python",
   "nbconvert_exporter": "python",
   "pygments_lexer": "ipython3",
   "version": "3.7.7"
  },
  "toc": {
   "base_numbering": 1,
   "nav_menu": {},
   "number_sections": true,
   "sideBar": true,
   "skip_h1_title": false,
   "title_cell": "Table of Contents",
   "title_sidebar": "Contents",
   "toc_cell": true,
   "toc_position": {},
   "toc_section_display": true,
   "toc_window_display": false
  },
  "varInspector": {
   "cols": {
    "lenName": 16,
    "lenType": 16,
    "lenVar": 40
   },
   "kernels_config": {
    "python": {
     "delete_cmd_postfix": "",
     "delete_cmd_prefix": "del ",
     "library": "var_list.py",
     "varRefreshCmd": "print(var_dic_list())"
    },
    "r": {
     "delete_cmd_postfix": ") ",
     "delete_cmd_prefix": "rm(",
     "library": "var_list.r",
     "varRefreshCmd": "cat(var_dic_list()) "
    }
   },
   "types_to_exclude": [
    "module",
    "function",
    "builtin_function_or_method",
    "instance",
    "_Feature"
   ],
   "window_display": false
  }
 },
 "nbformat": 4,
 "nbformat_minor": 5
}
