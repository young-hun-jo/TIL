{
 "cells": [
  {
   "cell_type": "markdown",
   "id": "546f2b11",
   "metadata": {
    "toc": true
   },
   "source": [
    "<h1>Table of Contents<span class=\"tocSkip\"></span></h1>\n",
    "<div class=\"toc\"><ul class=\"toc-item\"><li><span><a href=\"#파라미터-갱신(최적화(Optimization)-방법)\" data-toc-modified-id=\"파라미터-갱신(최적화(Optimization)-방법)-1\"><span class=\"toc-item-num\">1&nbsp;&nbsp;</span>파라미터 갱신(최적화(Optimization) 방법)</a></span></li><li><span><a href=\"#가중치-초기화-방법\" data-toc-modified-id=\"가중치-초기화-방법-2\"><span class=\"toc-item-num\">2&nbsp;&nbsp;</span>가중치 초기화 방법</a></span></li></ul></div>"
   ]
  },
  {
   "cell_type": "markdown",
   "id": "2255a07e",
   "metadata": {},
   "source": [
    "## 파라미터 갱신(최적화(Optimization) 방법)"
   ]
  },
  {
   "cell_type": "code",
   "execution_count": 1,
   "id": "aea55fc9",
   "metadata": {},
   "outputs": [],
   "source": [
    "# SGD\n",
    "class SGD:\n",
    "    def __init__(self, lr=0.01):\n",
    "        self.lr = lr\n",
    "        \n",
    "    def update(self, params: dict, grads: dict):\n",
    "        for key in params.keys():\n",
    "            params[key] -= self.lr * grads[key]"
   ]
  },
  {
   "cell_type": "code",
   "execution_count": 2,
   "id": "2ddb5f1e",
   "metadata": {},
   "outputs": [],
   "source": [
    "# Momentum : 현재의 Gradient로 갱신할 때, 과거의 Gradient로 고려 -> 변수 v(Velocity)의 역할!\n",
    "class Momentum:\n",
    "    def __init__(self, lr=0.01, momentum=0.9):\n",
    "        self.lr = lr\n",
    "        self.momentum = momentum\n",
    "        self.v = None\n",
    "        \n",
    "    def update(self, params: dict, grads: dict):\n",
    "        if self.v is None:\n",
    "            self.v = {}\n",
    "            for key, val in params.items():\n",
    "                self.v[key] = np.zeros_like(val)\n",
    "        \n",
    "        for key in parmas.keys():\n",
    "            self.v[key] = (self.momentum * self.v) - (self.lr * grads[key])\n",
    "            params[key] += self.v[key]"
   ]
  },
  {
   "cell_type": "code",
   "execution_count": 4,
   "id": "9c5d1ccb",
   "metadata": {},
   "outputs": [],
   "source": [
    "# AdaGrad : 학습률을 조정. \n",
    "# 학습률 조정하는 h값은 기울기값을 제곱한 값! \n",
    "# 그러므로 h값이 크다면 엄청 많이 움직였다는 것! 그래서 이것을 1/sqrt(h)로 해서 큰h값은 작게 움직이도록 설정!\n",
    "\n",
    "class AdaGrad:\n",
    "    def __init__(self, lr=0.01):\n",
    "        self.lr = lr\n",
    "        self.h = None\n",
    "        \n",
    "    def update(self, params: dict, grads: dict):\n",
    "        if self.h is None:\n",
    "            self.h = {}\n",
    "            for key, val in params.items():\n",
    "                self.h[key] = np.zeros_like(val)\n",
    "                \n",
    "        for key in params.keys():\n",
    "            self.h[key] += self.grads[key] * self.grads[key]\n",
    "            params[key] -= (self.lr * self.grads[key]) / (np.sqrt(self.h[key]) + 1e-7)\n",
    "            \n",
    "\n",
    "# RMSProp : AdaGrad + h에다가 지수평균을 도입\n",
    "class RMSProp:\n",
    "    def __init__(self, lr=0.01, rho=0.9):\n",
    "        self.lr = lr\n",
    "        self.rho = rho\n",
    "        self.h = None\n",
    "        \n",
    "    def update(self, params: dict, grads: dict):\n",
    "        if self.h is None:\n",
    "            self.h = {}\n",
    "            for key, val in params.items():\n",
    "                self.h[key] = np.zeros_like(val)\n",
    "        \n",
    "        for key in params.keys():\n",
    "            self.h[key] = rho * self.h[key] + (1 - rho) * (self.grads[key] * self.grads[key])\n",
    "            params[key] -= (self.lr * self.grads[key]) / (np.sqrt(self.h[key]) + 1e-7)"
   ]
  },
  {
   "cell_type": "markdown",
   "id": "7883882e",
   "metadata": {},
   "source": [
    "- Adam은 RMSProp + Momentum을 결합과 편향 보정(Bias Correction) 항을 추가해서 사용하는 방법. 책에서 소스코드를 생략... 소스코드가 궁금하다면 <a href='https://github.com/young-hun-jo/deep-learning-from-scratch/blob/master/common/optimizer.py'>여기</a>로!"
   ]
  },
  {
   "cell_type": "markdown",
   "id": "d6b2b359",
   "metadata": {},
   "source": [
    "## 가중치 초기화 방법"
   ]
  },
  {
   "cell_type": "code",
   "execution_count": null,
   "id": "bd767068",
   "metadata": {},
   "outputs": [],
   "source": []
  }
 ],
 "metadata": {
  "hide_input": false,
  "kernelspec": {
   "display_name": "Python 3 (ipykernel)",
   "language": "python",
   "name": "python3"
  },
  "language_info": {
   "codemirror_mode": {
    "name": "ipython",
    "version": 3
   },
   "file_extension": ".py",
   "mimetype": "text/x-python",
   "name": "python",
   "nbconvert_exporter": "python",
   "pygments_lexer": "ipython3",
   "version": "3.7.11"
  },
  "toc": {
   "base_numbering": 1,
   "nav_menu": {},
   "number_sections": true,
   "sideBar": true,
   "skip_h1_title": false,
   "title_cell": "Table of Contents",
   "title_sidebar": "Contents",
   "toc_cell": true,
   "toc_position": {},
   "toc_section_display": true,
   "toc_window_display": false
  },
  "varInspector": {
   "cols": {
    "lenName": 16,
    "lenType": 16,
    "lenVar": 40
   },
   "kernels_config": {
    "python": {
     "delete_cmd_postfix": "",
     "delete_cmd_prefix": "del ",
     "library": "var_list.py",
     "varRefreshCmd": "print(var_dic_list())"
    },
    "r": {
     "delete_cmd_postfix": ") ",
     "delete_cmd_prefix": "rm(",
     "library": "var_list.r",
     "varRefreshCmd": "cat(var_dic_list()) "
    }
   },
   "types_to_exclude": [
    "module",
    "function",
    "builtin_function_or_method",
    "instance",
    "_Feature"
   ],
   "window_display": false
  }
 },
 "nbformat": 4,
 "nbformat_minor": 5
}
