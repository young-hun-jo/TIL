{
 "cells": [
  {
   "cell_type": "markdown",
   "metadata": {
    "toc": true
   },
   "source": [
    "<h1>Table of Contents<span class=\"tocSkip\"></span></h1>\n",
    "<div class=\"toc\"><ul class=\"toc-item\"></ul></div>"
   ]
  },
  {
   "cell_type": "code",
   "execution_count": 1,
   "metadata": {},
   "outputs": [
    {
     "name": "stdout",
     "output_type": "stream",
     "text": [
      "순전파 수행 후 지불해야 할 최종 금액: 220.00000000000003\n",
      "\n",
      "역전파 수행 후 각 변수의 변화량 값\n",
      "사과 박스 가격: 2.2\n",
      "사과 박스 개수: 110.00000000000001\n",
      "소비자세: 200\n"
     ]
    }
   ],
   "source": [
    "import numpy as np\n",
    "\n",
    "class MulLayer:\n",
    "    def __init__(self):\n",
    "        self.x = None\n",
    "        self.y = None\n",
    "        \n",
    "    def forward(self, x, y):\n",
    "        self.x = x\n",
    "        self.y = y\n",
    "        return x * y\n",
    "    \n",
    "    def backward(self, d_out):\n",
    "        # 순전파 시 입력을 서로 바꾸어서 곱해줌!\n",
    "        dx = d_out * self.y\n",
    "        dy = d_out * self.x\n",
    "        return dx, dy\n",
    "    \n",
    "apple_box = 100\n",
    "apple_box_num = 2\n",
    "tax = 1.1\n",
    "\n",
    "# 곱셈계층\n",
    "mul_apple_layer = MulLayer()\n",
    "mul_tax_layer = MulLayer()\n",
    "\n",
    "# 순전파 수행\n",
    "apple_box_price = mul_apple_layer.forward(apple_box, apple_box_num)\n",
    "price = mul_tax_layer.forward(apple_box_price, tax)\n",
    "print('순전파 수행 후 지불해야 할 최종 금액:', price)\n",
    "print()\n",
    "\n",
    "# 역전파 수행(순전파와 반대 순서로 호출)\n",
    "d_price = 1\n",
    "d_apple_box_price, d_tax = mul_tax_layer.backward(d_price)\n",
    "d_apple_box, d_apple_box_num = mul_apple_layer.backward(d_apple_box_price)\n",
    "print('역전파 수행 후 각 변수의 변화량 값')\n",
    "print('사과 박스 가격:', d_apple_box)\n",
    "print('사과 박스 개수:', d_apple_box_num)\n",
    "print('소비자세:', d_tax)"
   ]
  },
  {
   "cell_type": "code",
   "execution_count": 2,
   "metadata": {},
   "outputs": [],
   "source": [
    "class AddLayer:\n",
    "    def __init__(self):\n",
    "        pass\n",
    "    \n",
    "    def forward(self, x, y):\n",
    "        return x + y\n",
    "    \n",
    "    def backward(self, d_out):\n",
    "        dx = d_out * 1\n",
    "        dy = d_out * 1\n",
    "        return dx, dy"
   ]
  },
  {
   "cell_type": "markdown",
   "metadata": {},
   "source": [
    "- 블로깅 완료\n",
    "---"
   ]
  },
  {
   "cell_type": "code",
   "execution_count": 4,
   "metadata": {},
   "outputs": [],
   "source": [
    "import numpy as np"
   ]
  },
  {
   "cell_type": "code",
   "execution_count": 5,
   "metadata": {},
   "outputs": [],
   "source": [
    "import numpy as np\n",
    "\n",
    "# Relu 활성함수의 역전파 계층 만들기\n",
    "class Relu:\n",
    "    def __init__(self):\n",
    "        self.mask = None\n",
    "        \n",
    "    def forward(self, x: np.array):\n",
    "        self.mask = (x <= 0) # 배열 원소값이 0이하인 값들에 대한 Boolean 인덱싱\n",
    "        out = x.copy()\n",
    "        out[self.mask] = 0\n",
    "        \n",
    "        return out\n",
    "    \n",
    "    def backward(self, d_out):\n",
    "        d_out[self.mask] = 0 # 순전파 시 입력값이 0이하인 데이터에 대한 국소적인 미분값은 0으로 전달하도록 변환\n",
    "        dx = d_out\n",
    "        \n",
    "        return dx"
   ]
  },
  {
   "cell_type": "code",
   "execution_count": 6,
   "metadata": {},
   "outputs": [],
   "source": [
    "# Sigmoid 활성함수의 역전파 계층 만들기 -> 결국 최종 변화량은 1(d_out) * y(1-y)가 됨!\n",
    "class Sigmoid:\n",
    "    def __init__(self):\n",
    "        self.out = None\n",
    "        \n",
    "    def forward(self, x: np.array):\n",
    "        out = 1 / (1 + np.exp(-x))\n",
    "        self.out = out\n",
    "        \n",
    "        return out\n",
    "    \n",
    "    def backward(self, d_out):\n",
    "        dx = d_out * self.out(1 - self.out)\n",
    "        \n",
    "        return dx"
   ]
  },
  {
   "cell_type": "code",
   "execution_count": 24,
   "metadata": {},
   "outputs": [
    {
     "data": {
      "text/plain": [
       "array([[1],\n",
       "       [2],\n",
       "       [3]])"
      ]
     },
     "execution_count": 24,
     "metadata": {},
     "output_type": "execute_result"
    }
   ],
   "source": [
    "a = np.array([1,2,3])\n",
    "np.expand_dims(a, axis=1)"
   ]
  },
  {
   "cell_type": "code",
   "execution_count": 25,
   "metadata": {},
   "outputs": [],
   "source": [
    "# Affine(행렬 곱) 계층 구현 -> 4차원인 경우 고려한 코드랑 차이가 있음!\n",
    "class Affine:\n",
    "    def __init__(self, W, b):\n",
    "        self.W = W\n",
    "        self.b = b\n",
    "        self.x = None\n",
    "        self.dW = None\n",
    "        self.db = None\n",
    "        \n",
    "    def forward(self, x):\n",
    "        # out = x * W + b\n",
    "        self.x = x\n",
    "        out = np.matmul(x, self.W) + self.b\n",
    "        return out\n",
    "    \n",
    "    def backward(self, d_out):\n",
    "        dx = np.matmul(d_out, self.W.T)\n",
    "        self.dW = np.matmul(self.x.T, d_out)\n",
    "        self.db = np.sum(d_out, axis=0)\n",
    "        \n",
    "        return dx"
   ]
  }
 ],
 "metadata": {
  "hide_input": false,
  "kernelspec": {
   "display_name": "Python 3 (ipykernel)",
   "language": "python",
   "name": "python3"
  },
  "language_info": {
   "codemirror_mode": {
    "name": "ipython",
    "version": 3
   },
   "file_extension": ".py",
   "mimetype": "text/x-python",
   "name": "python",
   "nbconvert_exporter": "python",
   "pygments_lexer": "ipython3",
   "version": "3.7.11"
  },
  "toc": {
   "base_numbering": 1,
   "nav_menu": {},
   "number_sections": true,
   "sideBar": true,
   "skip_h1_title": false,
   "title_cell": "Table of Contents",
   "title_sidebar": "Contents",
   "toc_cell": true,
   "toc_position": {},
   "toc_section_display": true,
   "toc_window_display": false
  },
  "varInspector": {
   "cols": {
    "lenName": 16,
    "lenType": 16,
    "lenVar": 40
   },
   "kernels_config": {
    "python": {
     "delete_cmd_postfix": "",
     "delete_cmd_prefix": "del ",
     "library": "var_list.py",
     "varRefreshCmd": "print(var_dic_list())"
    },
    "r": {
     "delete_cmd_postfix": ") ",
     "delete_cmd_prefix": "rm(",
     "library": "var_list.r",
     "varRefreshCmd": "cat(var_dic_list()) "
    }
   },
   "types_to_exclude": [
    "module",
    "function",
    "builtin_function_or_method",
    "instance",
    "_Feature"
   ],
   "window_display": false
  }
 },
 "nbformat": 4,
 "nbformat_minor": 4
}
