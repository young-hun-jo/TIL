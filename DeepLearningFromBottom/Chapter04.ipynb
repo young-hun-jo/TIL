{
 "cells": [
  {
   "cell_type": "markdown",
   "id": "attached-offer",
   "metadata": {
    "toc": true
   },
   "source": [
    "<h1>Table of Contents<span class=\"tocSkip\"></span></h1>\n",
    "<div class=\"toc\"><ul class=\"toc-item\"></ul></div>"
   ]
  },
  {
   "cell_type": "code",
   "execution_count": 1,
   "id": "light-decision",
   "metadata": {},
   "outputs": [],
   "source": [
    "import numpy as np"
   ]
  },
  {
   "cell_type": "code",
   "execution_count": 2,
   "id": "undefined-summary",
   "metadata": {},
   "outputs": [
    {
     "name": "stdout",
     "output_type": "stream",
     "text": [
      "0.19500000000000006\n",
      "1.395\n"
     ]
    }
   ],
   "source": [
    "# SSE(Sum of Squares for Error, 오차제곱합) 손실함수 구현\n",
    "def sse(y, t):\n",
    "    loss = np.sum((y - t) ** 2)\n",
    "    return loss\n",
    "    \n",
    "\n",
    "# 정답에 근사했을 경우\n",
    "y = np.array([0.1, 0.05, 0.6, 0., 0.05, 0.1, 0., 0.1, 0., 0,])\n",
    "t = np.array([0, 0, 1, 0, 0, 0, 0, 0, 0, 0])\n",
    "\n",
    "loss = sse(y, t)\n",
    "print(loss)\n",
    "\n",
    "# 정답과 멀을 경우\n",
    "y = np.array([0.1, 0.05, 0.6, 0., 0.05, 0.1, 0., 0.1, 0., 0,])\n",
    "t = np.array([0, 0, 0, 0, 0, 0, 1, 0, 0, 0])\n",
    "\n",
    "loss = sse(y, t)\n",
    "print(loss)"
   ]
  },
  {
   "cell_type": "code",
   "execution_count": 3,
   "id": "recovered-magazine",
   "metadata": {},
   "outputs": [
    {
     "name": "stdout",
     "output_type": "stream",
     "text": [
      "0.510825457099338\n",
      "16.118095650958317\n"
     ]
    }
   ],
   "source": [
    "def cross_entropy(y, t):\n",
    "    delta = 1e-7\n",
    "    loss = -np.sum(t * np.log(y + delta))\n",
    "    return loss\n",
    "\n",
    "# 정답에 근사했을 경우\n",
    "y = np.array([0.1, 0.05, 0.6, 0., 0.05, 0.1, 0., 0.1, 0., 0,])\n",
    "t = np.array([0, 0, 1, 0, 0, 0, 0, 0, 0, 0])\n",
    "\n",
    "loss = cross_entropy(y, t)\n",
    "print(loss)\n",
    "\n",
    "# 정답과 멀을 경우\n",
    "y = np.array([0.1, 0.05, 0.6, 0., 0.05, 0.1, 0., 0.1, 0., 0,])\n",
    "t = np.array([0, 0, 0, 0, 0, 0, 1, 0, 0, 0])\n",
    "\n",
    "loss = cross_entropy(y, t)\n",
    "print(loss)"
   ]
  },
  {
   "cell_type": "code",
   "execution_count": 4,
   "id": "instant-error",
   "metadata": {},
   "outputs": [
    {
     "data": {
      "text/plain": [
       "9"
      ]
     },
     "execution_count": 4,
     "metadata": {},
     "output_type": "execute_result"
    }
   ],
   "source": [
    "a = np.array([[1,2,3], [4,5,6], [7,8,9]])\n",
    "a.size"
   ]
  },
  {
   "cell_type": "code",
   "execution_count": 5,
   "id": "expressed-athletics",
   "metadata": {},
   "outputs": [
    {
     "name": "stdout",
     "output_type": "stream",
     "text": [
      "(60000, 784) (60000, 10)\n"
     ]
    }
   ],
   "source": [
    "from dataset.mnist import load_mnist\n",
    "\n",
    "(X_train, y_train), (X_test, y_test) = load_mnist(normalize=True, one_hot_label=True)\n",
    "print(X_train.shape, y_train.shape)\n"
   ]
  },
  {
   "cell_type": "code",
   "execution_count": 6,
   "id": "palestinian-representation",
   "metadata": {},
   "outputs": [
    {
     "name": "stdout",
     "output_type": "stream",
     "text": [
      "(10, 784) (10, 10)\n"
     ]
    }
   ],
   "source": [
    "# 배치 사이즈만큼의 배치 데이터 추출\n",
    "train_size = X_train.shape[0]\n",
    "batch_size = 10\n",
    "batch_index = np.random.choice(train_size, batch_size)\n",
    "\n",
    "X_train_batch = X_train[batch_index]\n",
    "y_train_batch = y_train[batch_index]\n",
    "print(X_train_batch.shape, y_train_batch.shape)"
   ]
  },
  {
   "cell_type": "code",
   "execution_count": 7,
   "id": "incorporated-tumor",
   "metadata": {},
   "outputs": [],
   "source": [
    "# 레이블이 원-핫 인코딩일 경우 CEE 손실함수\n",
    "def cross_entropy_ohe(y, t):\n",
    "    # 데이터가 1개만 들어왔을 경우(1차원) -> 2차원으로 변환\n",
    "    if y.ndim == 1:\n",
    "        y = y.reshape(1, y.size)\n",
    "        t = t.reshape(1, t.size)\n",
    "    \n",
    "    batch_size = y.shape[0]\n",
    "    loss = -np.sum(t * np.log(y + 1e-7))\n",
    "    return loss"
   ]
  },
  {
   "cell_type": "code",
   "execution_count": 8,
   "id": "bigger-reach",
   "metadata": {},
   "outputs": [
    {
     "name": "stdout",
     "output_type": "stream",
     "text": [
      "3.6020103454589845\n"
     ]
    }
   ],
   "source": [
    "from dataset.mnist import load_mnist\n",
    "import pickle\n",
    "\n",
    "(X_train, y_train), (X_test, y_test) = load_mnist(normalize=True, one_hot_label=False)\n",
    "\n",
    "def init_network():\n",
    "    with open('/Users/younghun/Desktop/gitrepo/deep-learning-from-scratch/ch03/sample_weight.pkl', 'rb') as f:\n",
    "        network = pickle.load(f)\n",
    "    return network\n",
    "\n",
    "def sigmoid(x):\n",
    "    return 1 / (1 + np.exp(-x))\n",
    "\n",
    "def softmax(x):\n",
    "    max_x = np.max(x)\n",
    "    exp_x = np.exp(x - max_x)\n",
    "    exp_x_sum = np.sum(exp_x)\n",
    "    return exp_x / exp_x_sum\n",
    "\n",
    "def forward(network, x):\n",
    "    w1, w2, w3 = network['W1'], network['W2'], network['W3']\n",
    "    b1, b2, b3 = network['b1'], network['b2'], network['b3']\n",
    "    \n",
    "    a1 = np.matmul(x, w1) + b1\n",
    "    z1 = sigmoid(a1)\n",
    "    a2 = np.matmul(z1, w2) + b2\n",
    "    z2 = sigmoid(a2)\n",
    "    a3 = np.matmul(z2, w3) + b3\n",
    "    y = softmax(a3)\n",
    "    \n",
    "    return y\n",
    "\n",
    "batch_size = 10\n",
    "batch_idx = np.random.choice(X_train.shape[0], batch_size)\n",
    "X_batch = X_train[batch_idx]\n",
    "y_batch = y_train[batch_idx]\n",
    "\n",
    "network = init_network()\n",
    "y_pred = forward(network, X_batch)\n",
    "\n",
    "def cross_entropy(y, t):\n",
    "    if y.ndim == 1:\n",
    "        t = t.reshape(1, t.size)\n",
    "        y = y.reshape(1, y.size)\n",
    "        \n",
    "    batch_size = y.shape[0]\n",
    "    #print(y.shape, t.shape)                            # y는 2차원(원-핫인코딩) t는 1차원(레이블인코딩)\n",
    "    #이해못했던 부분!)=> print(y[np.arange(batch_size), t]) # y값의 열 인덱스 번호 = t의 레이블 값임!\n",
    "    loss = -np.sum(np.log(y[np.arange(batch_size), t] + 1e-7)) / batch_size\n",
    "    return loss\n",
    "\n",
    "loss = cross_entropy(y_pred, y_batch)\n",
    "print(loss)"
   ]
  },
  {
   "cell_type": "markdown",
   "id": "specialized-nicaragua",
   "metadata": {},
   "source": [
    "- 블로깅 완료\n",
    "---"
   ]
  },
  {
   "cell_type": "code",
   "execution_count": 33,
   "id": "narrative-windsor",
   "metadata": {},
   "outputs": [],
   "source": [
    "# 수치미분 계산 공식(전방차분)) -> h를 0에 근사시키기 위해 가장 작은수를 사용했지만 아래의 h는 컴퓨터로 계산할 때 0으로 나오게 되어 오차가 발생\n",
    "def numerical_diff_wrong(f, x):\n",
    "    h = 10e-50\n",
    "    return (f(x+h) - f(x)) / h\n",
    "\n",
    "# 수치미분 계산 공식을 중심(중앙) 차분으로 변형 -> h를 2번 이용!\n",
    "def numerical_diff(f, x):\n",
    "    h = 1e-4\n",
    "    return (f(x+h) - f(x-h)) / (2*h)"
   ]
  },
  {
   "cell_type": "code",
   "execution_count": 34,
   "id": "taken-bradford",
   "metadata": {},
   "outputs": [
    {
     "data": {
      "image/png": "[encoded data removed]",
      "text/plain": [
       "<Figure size 432x288 with 1 Axes>"
      ]
     },
     "metadata": {
      "needs_background": "light"
     },
     "output_type": "display_data"
    }
   ],
   "source": [
    "# 함수 하나 정의\n",
    "def function_1(x):\n",
    "    y = 0.01*x** 2 + 0.1*x\n",
    "    return y\n",
    "\n",
    "import matplotlib.pyplot as plt\n",
    "import numpy as np\n",
    "\n",
    "x = np.arange(0., 20., 0.1)\n",
    "y = function_1(x)\n",
    "plt.plot(x, y)\n",
    "plt.xlabel('x')\n",
    "plt.ylabel('f(x)')\n",
    "plt.show()"
   ]
  },
  {
   "cell_type": "code",
   "execution_count": 35,
   "id": "racial-sponsorship",
   "metadata": {},
   "outputs": [
    {
     "name": "stdout",
     "output_type": "stream",
     "text": [
      "0.0\n",
      "0.0\n",
      "\n",
      "0.1999999999990898\n",
      "0.2999999999986347\n"
     ]
    }
   ],
   "source": [
    "# 위 함수의 미분 값 구하기\n",
    "print(numerical_diff_wrong(function_1, 5))\n",
    "print(numerical_diff_wrong(function_1, 10)) # 가장 미분값이 큼! = 가장 변화량이 큼\n",
    "print()\n",
    "print(numerical_diff(function_1, 5))\n",
    "print(numerical_diff(function_1, 10)) # 가장 미분값이 큼! = 가장 변화량이 큼"
   ]
  },
  {
   "cell_type": "code",
   "execution_count": 72,
   "id": "institutional-morocco",
   "metadata": {},
   "outputs": [
    {
     "name": "stdout",
     "output_type": "stream",
     "text": [
      "-0.49999999999317346\n"
     ]
    },
    {
     "data": {
      "image/png": "[encoded data removed]",
      "text/plain": [
       "<Figure size 432x288 with 1 Axes>"
      ]
     },
     "metadata": {
      "needs_background": "light"
     },
     "output_type": "display_data"
    }
   ],
   "source": [
    "def numerical_diff(f, x):\n",
    "    h = 1e-4\n",
    "    return (f(x+h)-f(x-h)) / (2*h)\n",
    "\n",
    "def function_1(x):\n",
    "    y = 0.02*x**2 + 0.1*x\n",
    "    return y\n",
    "\n",
    "def target_line(f, x):\n",
    "    # 변화량 계산\n",
    "    d = numerical_diff(f, x)\n",
    "    # 접선의 함수(일차함수)의 절편값\n",
    "    y = f(x)\n",
    "    b = y - d*x\n",
    "    # 접선의 일차함수 식 ex) y = ax + b 처럼! -> 이 때, x값들은 바깥의 x값들을 넣어줌\n",
    "    return lambda t: d*t + y\n",
    "    \n",
    "x = np.arange(0., 20., 0.1)\n",
    "y = function_1(x)\n",
    "plt.plot(x, y)\n",
    "\n",
    "tf = target_line(function_1, 5)\n",
    "y2 = tf(x)\n",
    "\n",
    "plt.plot(x, y2)\n",
    "plt.show()"
   ]
  },
  {
   "cell_type": "code",
   "execution_count": 65,
   "id": "ranking-relation",
   "metadata": {},
   "outputs": [
    {
     "data": {
      "text/plain": [
       "0.5"
      ]
     },
     "execution_count": 65,
     "metadata": {},
     "output_type": "execute_result"
    }
   ],
   "source": [
    "0.02 * 25"
   ]
  },
  {
   "cell_type": "code",
   "execution_count": 3,
   "id": "portuguese-participation",
   "metadata": {},
   "outputs": [
    {
     "name": "stdout",
     "output_type": "stream",
     "text": [
      "5.999999981298743\n",
      "8.000000004670937\n"
     ]
    }
   ],
   "source": [
    "# 편미분 구현하기\n",
    "# 1. 2차함수로 구성된 새로운 함수 정의\n",
    "def function_2(x: np.array):\n",
    "    return np.sum(x ** 2)\n",
    "\n",
    "# 2. x0^2 + x1^2 이라는 함수가 있을 때, x0, x1 각각 편미분 수행하기\n",
    "# 2-1. x0 기준으로 편미분 수행 = x1은 상수로 고정!\n",
    "def square_func_temp1(x0):\n",
    "    y = x0*x0 + 4.0**2 # x1을 4.0으로 고정\n",
    "    return y\n",
    "\n",
    "# 2-2. x1 기준으로 편미분 수행 = x0은 상수로 고정!\n",
    "def square_func_temp2(x1):\n",
    "    y = 3.0**2 + x1*x1 # x1을 3.0으로 고정\n",
    "    return y\n",
    "\n",
    "# 미분 함수\n",
    "def numerical_diff(f, x):\n",
    "    h = 1e-7\n",
    "    return (f(x+h) - f(x-h)) / (2*h)\n",
    "\n",
    "# x0가 3일 때 h만큼 늘리면 f 값은 얼마나 변화했는가? 를 의미\n",
    "print(numerical_diff(square_func_temp1, 3.0))\n",
    "\n",
    "# x1이 4일 때 h만큼 늘리면 f 값은 얼마나 변화했는가? 를 의미\n",
    "print(numerical_diff(square_func_temp2, 4.0))"
   ]
  },
  {
   "cell_type": "code",
   "execution_count": 12,
   "id": "developmental-march",
   "metadata": {},
   "outputs": [
    {
     "name": "stdout",
     "output_type": "stream",
     "text": [
      "[6. 8.]\n",
      "[16. 20.]\n",
      "[-10.  -6.]\n"
     ]
    }
   ],
   "source": [
    "# 여러가지 변수를 동시에 편미분 하는 방법 = 기울기(why? 여러 변수들의 편미분 값들을 벡터로 정리한 것이 Gradient라고 함!)\n",
    "def function_2(x: np.array):\n",
    "    return np.sum(x ** 2)\n",
    "\n",
    "def numerical_gradient(f, x: np.array):\n",
    "    h = 1e-4\n",
    "    # Gradient 담을 벡터행렬 초기화\n",
    "    grad = np.zeros_like(x)\n",
    "    \n",
    "    # array의 원소 하나씩 편미분 수행(=하나의 변수씩 편미분 수행)\n",
    "    for idx in range(x.size):\n",
    "        temp_val = x[idx]\n",
    "        # f(x+h)\n",
    "        x[idx] = temp_val + h\n",
    "        fxh1 = f(x)  # x라는 전체 array를 넣는 이유는 f 값을 계산하기 위해서는 모든 x들(변수들)이 필요하니까!\n",
    "        # f(x-h)\n",
    "        x[idx] = temp_val - h\n",
    "        fxh2 = f(x)\n",
    "        # 미분 공식 수행\n",
    "        grad[idx] = (fxh1 - fxh2) / (2*h)\n",
    "        x[idx] = temp_val # 다른 변수의 편미분 수행해주기 위해서 -h/+h 했던 원소값을 복원\n",
    "        \n",
    "    return grad\n",
    "\n",
    "print(numerical_gradient(function_2, np.array([3.0, 4.0])))\n",
    "print(numerical_gradient(function_2, np.array([8.0, 10.0])))\n",
    "print(numerical_gradient(function_2, np.array([-5.0, -3.0])))"
   ]
  },
  {
   "cell_type": "code",
   "execution_count": 33,
   "id": "manual-bearing",
   "metadata": {},
   "outputs": [
    {
     "name": "stdout",
     "output_type": "stream",
     "text": [
      "[-6.11110793e-10  8.14814391e-10]\n",
      "\n",
      "[-2.58983747e+13 -1.29524862e+12]\n",
      "\n",
      "[-2.99999994  3.99999992]\n"
     ]
    }
   ],
   "source": [
    "# 경사하강법: 기울기(Gradient)를 활용하여 (손실)함수의 최솟값 또는 최댓값을 찾는 방법\n",
    "def function_2(x: np.array):\n",
    "    return np.sum(x**2)\n",
    "\n",
    "def gradient_descent(f, init_x: np.array, lr=0.01, step_num=100):\n",
    "    x = init_x\n",
    "    # 100번의 경사하강 수행\n",
    "    for _ in range(step_num):\n",
    "        # (손실) 함수인 function_2 기반으로 기울기를 반복 계산\n",
    "        grad = numerical_gradient(f, x)\n",
    "        #print('grad:',grad) # 이 결과를 살펴보면 인풋인 init_x에 -3.0은 변화량이 주로 음수이기 때문에 양의 방향으로 변화시키는 반면, 4.0은 주로 양수이기 때문에 음의 방향으로 변화시킴\n",
    "        # x값 업데이트\n",
    "        x -= lr * grad\n",
    "    return x\n",
    "\n",
    "init_x = np.array([-3.0, 4.0])\n",
    "# 결과값: 손실 함수 기반으로 변화량을 측정하여 init_x라는 파라미터들을 업데이트한 결과값\n",
    "print(gradient_descent(function_2, init_x, lr=0.1, step_num=100)) \n",
    "print()\n",
    "# 학습률 매우 크게 했을 경우 -> 발산\n",
    "init_x = np.array([-3.0, 4.0])\n",
    "print(gradient_descent(function_2, init_x, lr=10.0, step_num=100))\n",
    "print()\n",
    "# 학습률 매우 작게 했을 경우 -> 초기값에서 갱신이 거의 안됨!\n",
    "init_x = np.array([-3.0, 4.0])\n",
    "print(gradient_descent(function_2, init_x, lr=1e-10, step_num=100))"
   ]
  },
  {
   "cell_type": "code",
   "execution_count": 5,
   "id": "composite-prototype",
   "metadata": {},
   "outputs": [
    {
     "name": "stdout",
     "output_type": "stream",
     "text": [
      "Loss: 1.2858931129543199\n",
      "\n",
      "[[ 0.36032908  0.13325883 -0.49358791]\n",
      " [ 0.54049362  0.19988825 -0.74038187]]\n"
     ]
    }
   ],
   "source": [
    "# 신경망에서의 기울기(Gradient) 계산하기\n",
    "import numpy as np\n",
    "from common.functions import softmax, cross_entropy_error\n",
    "from common.gradient import numerical_gradient\n",
    "\n",
    "# 다차원 배열에서의 편미분 구하는 함수\n",
    "def numerical_gradient_me(f, x):\n",
    "    h = 1e-4\n",
    "    grad = np.zeros_like(x)\n",
    "    # nditer는 array의 요소 하나하나 접근해 설정 로직에 따라 값을 알려줌!\n",
    "    # 'multi_index'를 통해서 array 요소의 인덱스를 구할 수 있음\n",
    "    # op_flags는 array의 요소들을 읽거나 변경하는 게 가능토록 명시\n",
    "    it = np.nditer(x, flags=['multi_index'], op_flags=['readwrite'])\n",
    "    # it.finished는 마지막 인덱스까지 도달했으면 True, 아니면 False\n",
    "    while not it.finished:\n",
    "        idx = it.multi_index # 인덱스 하나하나 반환\n",
    "        temp_val = x[idx]\n",
    "        # f(x+h)\n",
    "        x[idx] = float(temp_val) + h\n",
    "        fxh1 = f(x)\n",
    "        # f(x-h)\n",
    "        x[idx] = float(temp_val) - h\n",
    "        fxh2 = f(x)\n",
    "        \n",
    "        grad[idx] = (fxh1 - fxh2) / (2*h)\n",
    "        x[idx] = temp_val # 복원\n",
    "        # 다음 인덱스로 넘어가도록 하기\n",
    "        it.iternext()\n",
    "    return grad\n",
    "        \n",
    "\n",
    "class SimpleNet:\n",
    "    def __init__(self):\n",
    "        self.W = np.random.randn(2, 3)\n",
    "        \n",
    "    def predict(self, x):\n",
    "        y = np.matmul(x, self.W)\n",
    "        return y\n",
    "    \n",
    "    def loss(self, x, t):\n",
    "        z = self.predict(x)\n",
    "        y = softmax(z)\n",
    "        loss = cross_entropy_error(y, t)\n",
    "        return loss\n",
    "\n",
    "x = np.array([0.6, 0.9])\n",
    "t = np.array([0, 0, 1])  # 레이블은 최종 출력 shape인 (3,)이랑 같아야 함\n",
    "print('Loss:', net.loss(x, t))\n",
    "print()\n",
    "# 손실함수를 기반으로 변수들(파라미터들)의 기울기 계산하기!\n",
    "f = lambda w: net.loss(x, t)  # w는 그냥 람다 정의하기 위한 용 arg임!\n",
    "net = SimpleNet()\n",
    "dw = numerical_gradient_me(f, net.W)\n",
    "print(dw)"
   ]
  },
  {
   "cell_type": "code",
   "execution_count": null,
   "id": "unsigned-double",
   "metadata": {},
   "outputs": [],
   "source": []
  },
  {
   "cell_type": "code",
   "execution_count": null,
   "id": "underlying-prescription",
   "metadata": {},
   "outputs": [],
   "source": []
  }
 ],
 "metadata": {
  "hide_input": false,
  "kernelspec": {
   "display_name": "Python 3",
   "language": "python",
   "name": "python3"
  },
  "language_info": {
   "codemirror_mode": {
    "name": "ipython",
    "version": 3
   },
   "file_extension": ".py",
   "mimetype": "text/x-python",
   "name": "python",
   "nbconvert_exporter": "python",
   "pygments_lexer": "ipython3",
   "version": "3.7.7"
  },
  "toc": {
   "base_numbering": 1,
   "nav_menu": {},
   "number_sections": true,
   "sideBar": true,
   "skip_h1_title": false,
   "title_cell": "Table of Contents",
   "title_sidebar": "Contents",
   "toc_cell": true,
   "toc_position": {},
   "toc_section_display": true,
   "toc_window_display": false
  },
  "varInspector": {
   "cols": {
    "lenName": 16,
    "lenType": 16,
    "lenVar": 40
   },
   "kernels_config": {
    "python": {
     "delete_cmd_postfix": "",
     "delete_cmd_prefix": "del ",
     "library": "var_list.py",
     "varRefreshCmd": "print(var_dic_list())"
    },
    "r": {
     "delete_cmd_postfix": ") ",
     "delete_cmd_prefix": "rm(",
     "library": "var_list.r",
     "varRefreshCmd": "cat(var_dic_list()) "
    }
   },
   "types_to_exclude": [
    "module",
    "function",
    "builtin_function_or_method",
    "instance",
    "_Feature"
   ],
   "window_display": false
  }
 },
 "nbformat": 4,
 "nbformat_minor": 5
}
